{
 "cells": [
  {
   "cell_type": "markdown",
   "metadata": {},
   "source": [
    "# *Lending Club Training*\n",
    "\n",
    "In this tutorial, we will go through a step-by-step workflow to determine loan deliquency.  Predictions are made based on the information available at the time the loan was issued.  Our data is a portion of the public Lending Club dataset."
   ]
  },
  {
   "cell_type": "markdown",
   "metadata": {},
   "source": [
    "## Workflow\n",
    "\n",
    "1. Start H2O-3 cluster\n",
    "2. Import data\n",
    "3. Clean data\n",
    "4. Feature engineering\n",
    "5. Model training\n",
    "6. Examine model accuracy\n",
    "7. Interpret model\n",
    "8. Stop H2O-3 cluster"
   ]
  },
  {
   "cell_type": "markdown",
   "metadata": {},
   "source": [
    "# Step 1 (of 8). Start H2O-3 cluster"
   ]
  },
  {
   "cell_type": "code",
   "execution_count": 92,
   "metadata": {},
   "outputs": [
    {
     "name": "stdout",
     "output_type": "stream",
     "text": [
      "Checking whether there is an H2O instance running at http://localhost:54321..... not found.\n",
      "Attempting to start a local H2O server...\n",
      "  Java Version: java version \"1.8.0_181\"; Java(TM) SE Runtime Environment (build 1.8.0_181-b13); Java HotSpot(TM) 64-Bit Server VM (build 25.181-b13, mixed mode)\n",
      "  Starting server from /Users/sshkel/miniconda3/envs/h2o/lib/python3.7/site-packages/h2o/backend/bin/h2o.jar\n",
      "  Ice root: /var/folders/gw/7xx4qg7j3ns6bcjl6p8pr_nszhzqmk/T/tmpjeulswy0\n",
      "  JVM stdout: /var/folders/gw/7xx4qg7j3ns6bcjl6p8pr_nszhzqmk/T/tmpjeulswy0/h2o_sshkel_started_from_python.out\n",
      "  JVM stderr: /var/folders/gw/7xx4qg7j3ns6bcjl6p8pr_nszhzqmk/T/tmpjeulswy0/h2o_sshkel_started_from_python.err\n",
      "  Server is running at http://127.0.0.1:54321\n",
      "Connecting to H2O server at http://127.0.0.1:54321... successful.\n"
     ]
    },
    {
     "data": {
      "text/html": [
       "<div style=\"overflow:auto\"><table style=\"width:50%\"><tr><td>H2O cluster uptime:</td>\n",
       "<td>01 secs</td></tr>\n",
       "<tr><td>H2O cluster timezone:</td>\n",
       "<td>Pacific/Auckland</td></tr>\n",
       "<tr><td>H2O data parsing timezone:</td>\n",
       "<td>UTC</td></tr>\n",
       "<tr><td>H2O cluster version:</td>\n",
       "<td>3.20.0.9</td></tr>\n",
       "<tr><td>H2O cluster version age:</td>\n",
       "<td>23 days </td></tr>\n",
       "<tr><td>H2O cluster name:</td>\n",
       "<td>H2O_from_python_sshkel_zz47h2</td></tr>\n",
       "<tr><td>H2O cluster total nodes:</td>\n",
       "<td>1</td></tr>\n",
       "<tr><td>H2O cluster free memory:</td>\n",
       "<td>3.556 Gb</td></tr>\n",
       "<tr><td>H2O cluster total cores:</td>\n",
       "<td>12</td></tr>\n",
       "<tr><td>H2O cluster allowed cores:</td>\n",
       "<td>12</td></tr>\n",
       "<tr><td>H2O cluster status:</td>\n",
       "<td>accepting new members, healthy</td></tr>\n",
       "<tr><td>H2O connection url:</td>\n",
       "<td>http://127.0.0.1:54321</td></tr>\n",
       "<tr><td>H2O connection proxy:</td>\n",
       "<td>None</td></tr>\n",
       "<tr><td>H2O internal security:</td>\n",
       "<td>False</td></tr>\n",
       "<tr><td>H2O API Extensions:</td>\n",
       "<td>XGBoost, Algos, AutoML, Core V3, Core V4</td></tr>\n",
       "<tr><td>Python version:</td>\n",
       "<td>3.7.0 final</td></tr></table></div>"
      ],
      "text/plain": [
       "--------------------------  ----------------------------------------\n",
       "H2O cluster uptime:         01 secs\n",
       "H2O cluster timezone:       Pacific/Auckland\n",
       "H2O data parsing timezone:  UTC\n",
       "H2O cluster version:        3.20.0.9\n",
       "H2O cluster version age:    23 days\n",
       "H2O cluster name:           H2O_from_python_sshkel_zz47h2\n",
       "H2O cluster total nodes:    1\n",
       "H2O cluster free memory:    3.556 Gb\n",
       "H2O cluster total cores:    12\n",
       "H2O cluster allowed cores:  12\n",
       "H2O cluster status:         accepting new members, healthy\n",
       "H2O connection url:         http://127.0.0.1:54321\n",
       "H2O connection proxy:\n",
       "H2O internal security:      False\n",
       "H2O API Extensions:         XGBoost, Algos, AutoML, Core V3, Core V4\n",
       "Python version:             3.7.0 final\n",
       "--------------------------  ----------------------------------------"
      ]
     },
     "metadata": {},
     "output_type": "display_data"
    }
   ],
   "source": [
    "import h2o\n",
    "h2o.init()"
   ]
  },
  {
   "cell_type": "markdown",
   "metadata": {},
   "source": [
    "# Step 2 (of 8). Import data\n",
    "\n",
    "### View Data"
   ]
  },
  {
   "cell_type": "code",
   "execution_count": 93,
   "metadata": {},
   "outputs": [
    {
     "name": "stdout",
     "output_type": "stream",
     "text": [
      "Parse progress: |█████████████████████████████████████████████████████████| 100%\n"
     ]
    }
   ],
   "source": [
    "data_path =\"https://s3.amazonaws.com/h2o-public-test-data/bigdata/laptop/lending-club/LoanStats3a.csv\"\n",
    "loans = h2o.import_file(data_path,\n",
    "                        col_types = {\"int_rate\":\"string\", \n",
    "                                     \"revol_util\":\"string\", \n",
    "                                     \"emp_length\":\"string\", \n",
    "                                     \"verification_status\":\"string\"})"
   ]
  },
  {
   "cell_type": "code",
   "execution_count": 94,
   "metadata": {},
   "outputs": [
    {
     "data": {
      "text/plain": [
       "[42538, 52]"
      ]
     },
     "execution_count": 94,
     "metadata": {},
     "output_type": "execute_result"
    }
   ],
   "source": [
    "loans.dim"
   ]
  },
  {
   "cell_type": "code",
   "execution_count": 95,
   "metadata": {},
   "outputs": [
    {
     "data": {
      "text/html": [
       "<table>\n",
       "<thead>\n",
       "<tr><th style=\"text-align: right;\">         id</th><th style=\"text-align: right;\">  member_id</th><th style=\"text-align: right;\">  loan_amnt</th><th style=\"text-align: right;\">  funded_amnt</th><th style=\"text-align: right;\">  funded_amnt_inv</th><th>term     </th><th>int_rate  </th><th style=\"text-align: right;\">  installment</th><th>grade  </th><th>sub_grade  </th><th>emp_title                </th><th>emp_length  </th><th>home_ownership  </th><th style=\"text-align: right;\">  annual_inc</th><th>verification_status     </th><th>issue_d            </th><th>loan_status  </th><th>pymnt_plan  </th><th>url                                                                 </th><th>desc                                                                                                                                                                                                                                                                                                                                                                                                                                                                                                                                                                                                        </th><th>purpose           </th><th>title                                </th><th>zip_code  </th><th>addr_state  </th><th style=\"text-align: right;\">  dti</th><th style=\"text-align: right;\">  delinq_2yrs</th><th>earliest_cr_line   </th><th style=\"text-align: right;\">  inq_last_6mths</th><th>mths_since_last_delinq  </th><th>mths_since_last_record  </th><th style=\"text-align: right;\">  open_acc</th><th style=\"text-align: right;\">  pub_rec</th><th style=\"text-align: right;\">  revol_bal</th><th>revol_util  </th><th style=\"text-align: right;\">  total_acc</th><th>initial_list_status  </th><th style=\"text-align: right;\">  out_prncp</th><th style=\"text-align: right;\">  out_prncp_inv</th><th style=\"text-align: right;\">  total_pymnt</th><th style=\"text-align: right;\">  total_pymnt_inv</th><th style=\"text-align: right;\">  total_rec_prncp</th><th style=\"text-align: right;\">  total_rec_int</th><th style=\"text-align: right;\">  total_rec_late_fee</th><th style=\"text-align: right;\">  recoveries</th><th style=\"text-align: right;\">  collection_recovery_fee</th><th>last_pymnt_d       </th><th style=\"text-align: right;\">  last_pymnt_amnt</th><th>next_pymnt_d       </th><th>last_credit_pull_d  </th><th style=\"text-align: right;\">  collections_12_mths_ex_med</th><th>mths_since_last_major_derog  </th><th style=\"text-align: right;\">  policy_code</th></tr>\n",
       "</thead>\n",
       "<tbody>\n",
       "<tr><td style=\"text-align: right;\">1.0775e+06 </td><td style=\"text-align: right;\">1.2966e+06 </td><td style=\"text-align: right;\">       5000</td><td style=\"text-align: right;\">         5000</td><td style=\"text-align: right;\">             4975</td><td>36 months</td><td>10.65%    </td><td style=\"text-align: right;\">       162.87</td><td>B      </td><td>B2         </td><td>                         </td><td>10+ years   </td><td>RENT            </td><td style=\"text-align: right;\">       24000</td><td>VERIFIED - income       </td><td>2011-12-01 00:00:00</td><td>Fully Paid   </td><td>n           </td><td>https://www.lendingclub.com/browse/loanDetail.action?loan_id=1077501</td><td>Borrower added on 12/22/11 > I need to upgrade my business technologies.<br>                                                                                                                                                                                                                                                                                                                                                                                                                                                                                                                                </td><td>credit_card       </td><td>Computer                             </td><td>860xx     </td><td>AZ          </td><td style=\"text-align: right;\">27.65</td><td style=\"text-align: right;\">            0</td><td>1985-01-01 00:00:00</td><td style=\"text-align: right;\">               1</td><td>                        </td><td>                        </td><td style=\"text-align: right;\">         3</td><td style=\"text-align: right;\">        0</td><td style=\"text-align: right;\">      13648</td><td>83.7%       </td><td style=\"text-align: right;\">          9</td><td>f                    </td><td style=\"text-align: right;\">       0   </td><td style=\"text-align: right;\">           0   </td><td style=\"text-align: right;\">      5861.07</td><td style=\"text-align: right;\">          5831.78</td><td style=\"text-align: right;\">          5000   </td><td style=\"text-align: right;\">         861.07</td><td style=\"text-align: right;\">                0   </td><td style=\"text-align: right;\">        0   </td><td style=\"text-align: right;\">                     0   </td><td>2015-01-01 00:00:00</td><td style=\"text-align: right;\">           171.62</td><td>                   </td><td>2015-01-01 00:00:00 </td><td style=\"text-align: right;\">                           0</td><td>                             </td><td style=\"text-align: right;\">            1</td></tr>\n",
       "<tr><td style=\"text-align: right;\">1.07743e+06</td><td style=\"text-align: right;\">1.31417e+06</td><td style=\"text-align: right;\">       2500</td><td style=\"text-align: right;\">         2500</td><td style=\"text-align: right;\">             2500</td><td>60 months</td><td>15.27%    </td><td style=\"text-align: right;\">        59.83</td><td>C      </td><td>C4         </td><td>Ryder                    </td><td>< 1 year    </td><td>RENT            </td><td style=\"text-align: right;\">       30000</td><td>VERIFIED - income source</td><td>2011-12-01 00:00:00</td><td>Charged Off  </td><td>n           </td><td>https://www.lendingclub.com/browse/loanDetail.action?loan_id=1077430</td><td>Borrower added on 12/22/11 > I plan to use this money to finance the motorcycle i am looking at. I plan to have it paid off as soon as possible/when i sell my old bike. I only need this money because the deal im looking at is to good to pass up.<br><br>  Borrower added on 12/22/11 > I plan to use this money to finance the motorcycle i am looking at. I plan to have it paid off as soon as possible/when i sell my old bike.I only need this money because the deal im looking at is to good to pass up. I have finished college with an associates degree in business and its takingmeplaces<br></td><td>car               </td><td>bike                                 </td><td>309xx     </td><td>GA          </td><td style=\"text-align: right;\"> 1   </td><td style=\"text-align: right;\">            0</td><td>1999-04-01 00:00:00</td><td style=\"text-align: right;\">               5</td><td>                        </td><td>                        </td><td style=\"text-align: right;\">         3</td><td style=\"text-align: right;\">        0</td><td style=\"text-align: right;\">       1687</td><td>9.4%        </td><td style=\"text-align: right;\">          4</td><td>f                    </td><td style=\"text-align: right;\">       0   </td><td style=\"text-align: right;\">           0   </td><td style=\"text-align: right;\">      1008.71</td><td style=\"text-align: right;\">          1008.71</td><td style=\"text-align: right;\">           456.46</td><td style=\"text-align: right;\">         435.17</td><td style=\"text-align: right;\">                0   </td><td style=\"text-align: right;\">      117.08</td><td style=\"text-align: right;\">                     1.11</td><td>2013-04-01 00:00:00</td><td style=\"text-align: right;\">           119.66</td><td>                   </td><td>2013-09-01 00:00:00 </td><td style=\"text-align: right;\">                           0</td><td>                             </td><td style=\"text-align: right;\">            1</td></tr>\n",
       "<tr><td style=\"text-align: right;\">1.07718e+06</td><td style=\"text-align: right;\">1.31352e+06</td><td style=\"text-align: right;\">       2400</td><td style=\"text-align: right;\">         2400</td><td style=\"text-align: right;\">             2400</td><td>36 months</td><td>15.96%    </td><td style=\"text-align: right;\">        84.33</td><td>C      </td><td>C5         </td><td>                         </td><td>10+ years   </td><td>RENT            </td><td style=\"text-align: right;\">       12252</td><td>not verified            </td><td>2011-12-01 00:00:00</td><td>Fully Paid   </td><td>n           </td><td>https://www.lendingclub.com/browse/loanDetail.action?loan_id=1077175</td><td>                                                                                                                                                                                                                                                                                                                                                                                                                                                                                                                                                                                                            </td><td>small_business    </td><td>real estate business                 </td><td>606xx     </td><td>IL          </td><td style=\"text-align: right;\"> 8.72</td><td style=\"text-align: right;\">            0</td><td>2001-11-01 00:00:00</td><td style=\"text-align: right;\">               2</td><td>                        </td><td>                        </td><td style=\"text-align: right;\">         2</td><td style=\"text-align: right;\">        0</td><td style=\"text-align: right;\">       2956</td><td>98.5%       </td><td style=\"text-align: right;\">         10</td><td>f                    </td><td style=\"text-align: right;\">       0   </td><td style=\"text-align: right;\">           0   </td><td style=\"text-align: right;\">      3003.65</td><td style=\"text-align: right;\">          3003.65</td><td style=\"text-align: right;\">          2400   </td><td style=\"text-align: right;\">         603.65</td><td style=\"text-align: right;\">                0   </td><td style=\"text-align: right;\">        0   </td><td style=\"text-align: right;\">                     0   </td><td>2014-06-01 00:00:00</td><td style=\"text-align: right;\">           649.91</td><td>                   </td><td>2015-06-01 00:00:00 </td><td style=\"text-align: right;\">                           0</td><td>                             </td><td style=\"text-align: right;\">            1</td></tr>\n",
       "<tr><td style=\"text-align: right;\">1.07686e+06</td><td style=\"text-align: right;\">1.27718e+06</td><td style=\"text-align: right;\">      10000</td><td style=\"text-align: right;\">        10000</td><td style=\"text-align: right;\">            10000</td><td>36 months</td><td>13.49%    </td><td style=\"text-align: right;\">       339.31</td><td>C      </td><td>C1         </td><td>AIR RESOURCES BOARD      </td><td>10+ years   </td><td>RENT            </td><td style=\"text-align: right;\">       49200</td><td>VERIFIED - income source</td><td>2011-12-01 00:00:00</td><td>Fully Paid   </td><td>n           </td><td>https://www.lendingclub.com/browse/loanDetail.action?loan_id=1076863</td><td>Borrower added on 12/21/11 > to pay for property tax (borrow from friend, need to pay back) & central A/C need to be replace. I'm very sorry to let my loan expired last time.<br>                                                                                                                                                                                                                                                                                                                                                                                                                          </td><td>other             </td><td>personel                             </td><td>917xx     </td><td>CA          </td><td style=\"text-align: right;\">20   </td><td style=\"text-align: right;\">            0</td><td>1996-02-01 00:00:00</td><td style=\"text-align: right;\">               1</td><td>35                      </td><td>                        </td><td style=\"text-align: right;\">        10</td><td style=\"text-align: right;\">        0</td><td style=\"text-align: right;\">       5598</td><td>21%         </td><td style=\"text-align: right;\">         37</td><td>f                    </td><td style=\"text-align: right;\">       0   </td><td style=\"text-align: right;\">           0   </td><td style=\"text-align: right;\">     12226.3 </td><td style=\"text-align: right;\">         12226.3 </td><td style=\"text-align: right;\">         10000   </td><td style=\"text-align: right;\">        2209.33</td><td style=\"text-align: right;\">               16.97</td><td style=\"text-align: right;\">        0   </td><td style=\"text-align: right;\">                     0   </td><td>2015-01-01 00:00:00</td><td style=\"text-align: right;\">           357.48</td><td>                   </td><td>2015-01-01 00:00:00 </td><td style=\"text-align: right;\">                           0</td><td>                             </td><td style=\"text-align: right;\">            1</td></tr>\n",
       "<tr><td style=\"text-align: right;\">1.07536e+06</td><td style=\"text-align: right;\">1.31175e+06</td><td style=\"text-align: right;\">       3000</td><td style=\"text-align: right;\">         3000</td><td style=\"text-align: right;\">             3000</td><td>60 months</td><td>12.69%    </td><td style=\"text-align: right;\">        67.79</td><td>B      </td><td>B5         </td><td>University Medical Group </td><td>1 year      </td><td>RENT            </td><td style=\"text-align: right;\">       80000</td><td>VERIFIED - income source</td><td>2011-12-01 00:00:00</td><td>Current      </td><td>n           </td><td>https://www.lendingclub.com/browse/loanDetail.action?loan_id=1075358</td><td>Borrower added on 12/21/11 > I plan on combining three large interest bills together and freeing up some extra each month to pay toward other bills.  I've always been a good payor but have found myself needing to make adjustments to my budget due to a medical scare. My job is very stable, I love it.<br>                                                                                                                                                                                                                                                                                            </td><td>other             </td><td>Personal                             </td><td>972xx     </td><td>OR          </td><td style=\"text-align: right;\">17.94</td><td style=\"text-align: right;\">            0</td><td>1996-01-01 00:00:00</td><td style=\"text-align: right;\">               0</td><td>38                      </td><td>                        </td><td style=\"text-align: right;\">        15</td><td style=\"text-align: right;\">        0</td><td style=\"text-align: right;\">      27783</td><td>53.9%       </td><td style=\"text-align: right;\">         38</td><td>f                    </td><td style=\"text-align: right;\">    1168.04</td><td style=\"text-align: right;\">        1168.04</td><td style=\"text-align: right;\">      2767.64</td><td style=\"text-align: right;\">          2767.64</td><td style=\"text-align: right;\">          1831.96</td><td style=\"text-align: right;\">         935.68</td><td style=\"text-align: right;\">                0   </td><td style=\"text-align: right;\">        0   </td><td style=\"text-align: right;\">                     0   </td><td>2015-06-01 00:00:00</td><td style=\"text-align: right;\">            67.79</td><td>2015-07-01 00:00:00</td><td>2015-06-01 00:00:00 </td><td style=\"text-align: right;\">                           0</td><td>                             </td><td style=\"text-align: right;\">            1</td></tr>\n",
       "<tr><td style=\"text-align: right;\">1.07527e+06</td><td style=\"text-align: right;\">1.31144e+06</td><td style=\"text-align: right;\">       5000</td><td style=\"text-align: right;\">         5000</td><td style=\"text-align: right;\">             5000</td><td>36 months</td><td>7.90%     </td><td style=\"text-align: right;\">       156.46</td><td>A      </td><td>A4         </td><td>Veolia Transportaton     </td><td>3 years     </td><td>RENT            </td><td style=\"text-align: right;\">       36000</td><td>VERIFIED - income source</td><td>2011-12-01 00:00:00</td><td>Fully Paid   </td><td>n           </td><td>https://www.lendingclub.com/browse/loanDetail.action?loan_id=1075269</td><td>                                                                                                                                                                                                                                                                                                                                                                                                                                                                                                                                                                                                            </td><td>wedding           </td><td>My wedding loan I promise to pay back</td><td>852xx     </td><td>AZ          </td><td style=\"text-align: right;\">11.2 </td><td style=\"text-align: right;\">            0</td><td>2004-11-01 00:00:00</td><td style=\"text-align: right;\">               3</td><td>                        </td><td>                        </td><td style=\"text-align: right;\">         9</td><td style=\"text-align: right;\">        0</td><td style=\"text-align: right;\">       7963</td><td>28.3%       </td><td style=\"text-align: right;\">         12</td><td>f                    </td><td style=\"text-align: right;\">       0   </td><td style=\"text-align: right;\">           0   </td><td style=\"text-align: right;\">      5631.38</td><td style=\"text-align: right;\">          5631.38</td><td style=\"text-align: right;\">          5000   </td><td style=\"text-align: right;\">         631.38</td><td style=\"text-align: right;\">                0   </td><td style=\"text-align: right;\">        0   </td><td style=\"text-align: right;\">                     0   </td><td>2015-01-01 00:00:00</td><td style=\"text-align: right;\">           161.03</td><td>                   </td><td>2015-06-01 00:00:00 </td><td style=\"text-align: right;\">                           0</td><td>                             </td><td style=\"text-align: right;\">            1</td></tr>\n",
       "<tr><td style=\"text-align: right;\">1.06964e+06</td><td style=\"text-align: right;\">1.30474e+06</td><td style=\"text-align: right;\">       7000</td><td style=\"text-align: right;\">         7000</td><td style=\"text-align: right;\">             7000</td><td>60 months</td><td>15.96%    </td><td style=\"text-align: right;\">       170.08</td><td>C      </td><td>C5         </td><td>Southern Star Photography</td><td>8 years     </td><td>RENT            </td><td style=\"text-align: right;\">       47004</td><td>not verified            </td><td>2011-12-01 00:00:00</td><td>Current      </td><td>n           </td><td>https://www.lendingclub.com/browse/loanDetail.action?loan_id=1069639</td><td>Borrower added on 12/18/11 > I am planning on using the funds to pay off two retail credit cards with 24.99% interest rates, as well as a major bank credit card with a 18.99% rate.  I pay all my bills on time, looking for a lower combined payment and lower monthly payment.<br>                                                                                                                                                                                                                                                                                                                       </td><td>debt_consolidation</td><td>Loan                                 </td><td>280xx     </td><td>NC          </td><td style=\"text-align: right;\">23.51</td><td style=\"text-align: right;\">            0</td><td>2005-07-01 00:00:00</td><td style=\"text-align: right;\">               1</td><td>                        </td><td>                        </td><td style=\"text-align: right;\">         7</td><td style=\"text-align: right;\">        0</td><td style=\"text-align: right;\">      17726</td><td>85.6%       </td><td style=\"text-align: right;\">         11</td><td>f                    </td><td style=\"text-align: right;\">    2853.21</td><td style=\"text-align: right;\">        2853.21</td><td style=\"text-align: right;\">      6946.28</td><td style=\"text-align: right;\">          6946.28</td><td style=\"text-align: right;\">          4146.8 </td><td style=\"text-align: right;\">        2799.48</td><td style=\"text-align: right;\">                0   </td><td style=\"text-align: right;\">        0   </td><td style=\"text-align: right;\">                     0   </td><td>2015-06-01 00:00:00</td><td style=\"text-align: right;\">           170.08</td><td>2015-08-01 00:00:00</td><td>2015-06-01 00:00:00 </td><td style=\"text-align: right;\">                           0</td><td>                             </td><td style=\"text-align: right;\">            1</td></tr>\n",
       "<tr><td style=\"text-align: right;\">1.07205e+06</td><td style=\"text-align: right;\">1.28869e+06</td><td style=\"text-align: right;\">       3000</td><td style=\"text-align: right;\">         3000</td><td style=\"text-align: right;\">             3000</td><td>36 months</td><td>18.64%    </td><td style=\"text-align: right;\">       109.43</td><td>E      </td><td>E1         </td><td>MKC Accounting           </td><td>9 years     </td><td>RENT            </td><td style=\"text-align: right;\">       48000</td><td>VERIFIED - income source</td><td>2011-12-01 00:00:00</td><td>Fully Paid   </td><td>n           </td><td>https://www.lendingclub.com/browse/loanDetail.action?loan_id=1072053</td><td>Borrower added on 12/16/11 > Downpayment for a car.<br>                                                                                                                                                                                                                                                                                                                                                                                                                                                                                                                                                     </td><td>car               </td><td>Car Downpayment                      </td><td>900xx     </td><td>CA          </td><td style=\"text-align: right;\"> 5.35</td><td style=\"text-align: right;\">            0</td><td>2007-01-01 00:00:00</td><td style=\"text-align: right;\">               2</td><td>                        </td><td>                        </td><td style=\"text-align: right;\">         4</td><td style=\"text-align: right;\">        0</td><td style=\"text-align: right;\">       8221</td><td>87.5%       </td><td style=\"text-align: right;\">          4</td><td>f                    </td><td style=\"text-align: right;\">       0   </td><td style=\"text-align: right;\">           0   </td><td style=\"text-align: right;\">      3938.14</td><td style=\"text-align: right;\">          3938.14</td><td style=\"text-align: right;\">          3000   </td><td style=\"text-align: right;\">         938.14</td><td style=\"text-align: right;\">                0   </td><td style=\"text-align: right;\">        0   </td><td style=\"text-align: right;\">                     0   </td><td>2015-01-01 00:00:00</td><td style=\"text-align: right;\">           111.34</td><td>                   </td><td>2014-12-01 00:00:00 </td><td style=\"text-align: right;\">                           0</td><td>                             </td><td style=\"text-align: right;\">            1</td></tr>\n",
       "<tr><td style=\"text-align: right;\">1.0718e+06 </td><td style=\"text-align: right;\">1.30696e+06</td><td style=\"text-align: right;\">       5600</td><td style=\"text-align: right;\">         5600</td><td style=\"text-align: right;\">             5600</td><td>60 months</td><td>21.28%    </td><td style=\"text-align: right;\">       152.39</td><td>F      </td><td>F2         </td><td>                         </td><td>4 years     </td><td>OWN             </td><td style=\"text-align: right;\">       40000</td><td>VERIFIED - income source</td><td>2011-12-01 00:00:00</td><td>Charged Off  </td><td>n           </td><td>https://www.lendingclub.com/browse/loanDetail.action?loan_id=1071795</td><td>Borrower added on 12/21/11 > I own a small home-based judgment collection business. I have 5 years experience collecting debts. I am now going from a home office to a small office. I also plan to buy a small debt portfolio (eg. $10K for $1M of debt) <br>My score is not A+ because I own my home and have no mortgage.<br>                                                                                                                                                                                                                                                                            </td><td>small_business    </td><td>Expand Business & Buy Debt Portfolio </td><td>958xx     </td><td>CA          </td><td style=\"text-align: right;\"> 5.55</td><td style=\"text-align: right;\">            0</td><td>2004-04-01 00:00:00</td><td style=\"text-align: right;\">               2</td><td>                        </td><td>                        </td><td style=\"text-align: right;\">        11</td><td style=\"text-align: right;\">        0</td><td style=\"text-align: right;\">       5210</td><td>32.6%       </td><td style=\"text-align: right;\">         13</td><td>f                    </td><td style=\"text-align: right;\">       0   </td><td style=\"text-align: right;\">           0   </td><td style=\"text-align: right;\">       646.02</td><td style=\"text-align: right;\">           646.02</td><td style=\"text-align: right;\">           162.02</td><td style=\"text-align: right;\">         294.94</td><td style=\"text-align: right;\">                0   </td><td style=\"text-align: right;\">      189.06</td><td style=\"text-align: right;\">                     2.09</td><td>2012-04-01 00:00:00</td><td style=\"text-align: right;\">           152.39</td><td>                   </td><td>2012-08-01 00:00:00 </td><td style=\"text-align: right;\">                           0</td><td>                             </td><td style=\"text-align: right;\">            1</td></tr>\n",
       "<tr><td style=\"text-align: right;\">1.07157e+06</td><td style=\"text-align: right;\">1.30672e+06</td><td style=\"text-align: right;\">       5375</td><td style=\"text-align: right;\">         5375</td><td style=\"text-align: right;\">             5350</td><td>60 months</td><td>12.69%    </td><td style=\"text-align: right;\">       121.45</td><td>B      </td><td>B5         </td><td>Starbucks                </td><td>< 1 year    </td><td>RENT            </td><td style=\"text-align: right;\">       15000</td><td>VERIFIED - income       </td><td>2011-12-01 00:00:00</td><td>Charged Off  </td><td>n           </td><td>https://www.lendingclub.com/browse/loanDetail.action?loan_id=1071570</td><td>Borrower added on 12/16/11 > I'm trying to build up my credit history. I live with my brother and have no car payment or credit cards. I am in community college and work full time. Im going to use the money to make some repairs around the house and get some maintenance done on my car.<br><br>  Borrower added on 12/20/11 > $1000 down only $4375 to go. Thanks to everyone that invested so far, looking forward to surprising my brother with the fixes around the house.<br>                                                                                                                     </td><td>other             </td><td>Building my credit history.          </td><td>774xx     </td><td>TX          </td><td style=\"text-align: right;\">18.08</td><td style=\"text-align: right;\">            0</td><td>2004-09-01 00:00:00</td><td style=\"text-align: right;\">               0</td><td>                        </td><td>                        </td><td style=\"text-align: right;\">         2</td><td style=\"text-align: right;\">        0</td><td style=\"text-align: right;\">       9279</td><td>36.5%       </td><td style=\"text-align: right;\">          3</td><td>f                    </td><td style=\"text-align: right;\">       0   </td><td style=\"text-align: right;\">           0   </td><td style=\"text-align: right;\">      1476.19</td><td style=\"text-align: right;\">          1469.34</td><td style=\"text-align: right;\">           673.48</td><td style=\"text-align: right;\">         533.42</td><td style=\"text-align: right;\">                0   </td><td style=\"text-align: right;\">      269.29</td><td style=\"text-align: right;\">                     2.52</td><td>2012-11-01 00:00:00</td><td style=\"text-align: right;\">           121.45</td><td>                   </td><td>2013-03-01 00:00:00 </td><td style=\"text-align: right;\">                           0</td><td>                             </td><td style=\"text-align: right;\">            1</td></tr>\n",
       "</tbody>\n",
       "</table>"
      ]
     },
     "metadata": {},
     "output_type": "display_data"
    },
    {
     "data": {
      "text/plain": []
     },
     "execution_count": 95,
     "metadata": {},
     "output_type": "execute_result"
    }
   ],
   "source": [
    "loans.head()"
   ]
  },
  {
   "cell_type": "markdown",
   "metadata": {},
   "source": [
    "### Filter Loans\n",
    "\n",
    "Now we will filter out loans that are ongoing.  These are loans with loan status like \"Current\" and \"In Grace Period\"."
   ]
  },
  {
   "cell_type": "code",
   "execution_count": 96,
   "metadata": {},
   "outputs": [
    {
     "data": {
      "text/plain": [
       "42538"
      ]
     },
     "execution_count": 96,
     "metadata": {},
     "output_type": "execute_result"
    }
   ],
   "source": [
    "num_unfiltered_loans = loans.dim[0]\n",
    "num_unfiltered_loans"
   ]
  },
  {
   "cell_type": "code",
   "execution_count": 97,
   "metadata": {},
   "outputs": [
    {
     "data": {
      "text/html": [
       "<table>\n",
       "<thead>\n",
       "<tr><th>loan_status                                             </th><th style=\"text-align: right;\">  Count</th></tr>\n",
       "</thead>\n",
       "<tbody>\n",
       "<tr><td>Charged Off                                             </td><td style=\"text-align: right;\">   5435</td></tr>\n",
       "<tr><td>Current                                                 </td><td style=\"text-align: right;\">   3351</td></tr>\n",
       "<tr><td>Default                                                 </td><td style=\"text-align: right;\">      7</td></tr>\n",
       "<tr><td>Does not meet the credit policy.  Status:Charged Off    </td><td style=\"text-align: right;\">    761</td></tr>\n",
       "<tr><td>Does not meet the credit policy.  Status:Current        </td><td style=\"text-align: right;\">     53</td></tr>\n",
       "<tr><td>Does not meet the credit policy.  Status:Fully Paid     </td><td style=\"text-align: right;\">   1933</td></tr>\n",
       "<tr><td>Does not meet the credit policy.  Status:In Grace Period</td><td style=\"text-align: right;\">      2</td></tr>\n",
       "<tr><td>Fully Paid                                              </td><td style=\"text-align: right;\">  30843</td></tr>\n",
       "<tr><td>In Grace Period                                         </td><td style=\"text-align: right;\">     60</td></tr>\n",
       "<tr><td>Late (16-30 days)                                       </td><td style=\"text-align: right;\">     16</td></tr>\n",
       "<tr><td>Late (31-120 days)                                      </td><td style=\"text-align: right;\">     74</td></tr>\n",
       "</tbody>\n",
       "</table>"
      ]
     },
     "metadata": {},
     "output_type": "display_data"
    },
    {
     "data": {
      "text/plain": []
     },
     "execution_count": 97,
     "metadata": {},
     "output_type": "execute_result"
    }
   ],
   "source": [
    "loans[\"loan_status\"].table().head(20)"
   ]
  },
  {
   "cell_type": "code",
   "execution_count": 98,
   "metadata": {},
   "outputs": [],
   "source": [
    "ongoing_status = [\"Current\",\n",
    "                  \"In Grace Period\",\n",
    "                  \"Late (16-30 days)\",\n",
    "                  \"Late (31-120 days)\"]\n",
    "loans = loans[~loans[\"loan_status\"].isin(ongoing_status)]"
   ]
  },
  {
   "cell_type": "code",
   "execution_count": 99,
   "metadata": {},
   "outputs": [
    {
     "data": {
      "text/plain": [
       "39037"
      ]
     },
     "execution_count": 99,
     "metadata": {},
     "output_type": "execute_result"
    }
   ],
   "source": [
    "num_filtered_loans = loans.dim[0]\n",
    "num_filtered_loans"
   ]
  },
  {
   "cell_type": "code",
   "execution_count": 100,
   "metadata": {},
   "outputs": [
    {
     "data": {
      "text/plain": [
       "3501"
      ]
     },
     "execution_count": 100,
     "metadata": {},
     "output_type": "execute_result"
    }
   ],
   "source": [
    "num_loans_filtered_out = num_unfiltered_loans - num_filtered_loans\n",
    "num_loans_filtered_out"
   ]
  },
  {
   "cell_type": "markdown",
   "metadata": {},
   "source": [
    "### Create Response Column\n",
    "\n",
    "Our response column will be called: `bad_loan`.  The `bad_loan` column will be positive if the loan was not completely paid off."
   ]
  },
  {
   "cell_type": "code",
   "execution_count": 101,
   "metadata": {},
   "outputs": [],
   "source": [
    "loans[\"bad_loan\"] = ~(loans[\"loan_status\"] == \"Fully Paid\")\n",
    "loans[\"bad_loan\"] = loans[\"bad_loan\"].asfactor() # convert to enum/factor"
   ]
  },
  {
   "cell_type": "code",
   "execution_count": 102,
   "metadata": {
    "scrolled": true
   },
   "outputs": [
    {
     "data": {
      "text/html": [
       "<table>\n",
       "<thead>\n",
       "<tr><th style=\"text-align: right;\">  bad_loan</th><th style=\"text-align: right;\">  Count</th><th style=\"text-align: right;\">  Percentage</th></tr>\n",
       "</thead>\n",
       "<tbody>\n",
       "<tr><td style=\"text-align: right;\">         0</td><td style=\"text-align: right;\">  30843</td><td style=\"text-align: right;\">          79</td></tr>\n",
       "<tr><td style=\"text-align: right;\">         1</td><td style=\"text-align: right;\">   8194</td><td style=\"text-align: right;\">          21</td></tr>\n",
       "</tbody>\n",
       "</table>"
      ]
     },
     "metadata": {},
     "output_type": "display_data"
    },
    {
     "data": {
      "text/plain": []
     },
     "execution_count": 102,
     "metadata": {},
     "output_type": "execute_result"
    }
   ],
   "source": [
    "bad_loan_dist = loans[\"bad_loan\"].table()\n",
    "bad_loan_dist[\"Percentage\"] = (100*bad_loan_dist[\"Count\"]/loans.nrow).round()\n",
    "bad_loan_dist"
   ]
  },
  {
   "cell_type": "markdown",
   "metadata": {},
   "source": [
    "About one in five loans eventually become bad."
   ]
  },
  {
   "cell_type": "markdown",
   "metadata": {},
   "source": [
    "# Step 3 (of 8).  Clean data\n",
    "\n",
    "We have multiple columns that are numeric but are being treated as string because of their syntax.  In this section, we will convert these to numeric.  Our machine learning models will have a greater ability to understand numeric features than strings."
   ]
  },
  {
   "cell_type": "code",
   "execution_count": 103,
   "metadata": {},
   "outputs": [
    {
     "data": {
      "text/html": [
       "<table>\n",
       "<thead>\n",
       "<tr><th>int_rate  </th><th>revol_util  </th><th>emp_length  </th></tr>\n",
       "</thead>\n",
       "<tbody>\n",
       "<tr><td>10.65%    </td><td>83.7%       </td><td>10+ years   </td></tr>\n",
       "<tr><td>15.27%    </td><td>9.4%        </td><td>< 1 year    </td></tr>\n",
       "<tr><td>15.96%    </td><td>98.5%       </td><td>10+ years   </td></tr>\n",
       "<tr><td>13.49%    </td><td>21%         </td><td>10+ years   </td></tr>\n",
       "<tr><td>7.90%     </td><td>28.3%       </td><td>3 years     </td></tr>\n",
       "<tr><td>18.64%    </td><td>87.5%       </td><td>9 years     </td></tr>\n",
       "<tr><td>21.28%    </td><td>32.6%       </td><td>4 years     </td></tr>\n",
       "<tr><td>12.69%    </td><td>36.5%       </td><td>< 1 year    </td></tr>\n",
       "<tr><td>14.65%    </td><td>20.6%       </td><td>5 years     </td></tr>\n",
       "<tr><td>12.69%    </td><td>67.1%       </td><td>10+ years   </td></tr>\n",
       "</tbody>\n",
       "</table>"
      ]
     },
     "metadata": {},
     "output_type": "display_data"
    },
    {
     "data": {
      "text/plain": []
     },
     "execution_count": 103,
     "metadata": {},
     "output_type": "execute_result"
    }
   ],
   "source": [
    "loans[[\"int_rate\", \"revol_util\", \"emp_length\"]].head()"
   ]
  },
  {
   "cell_type": "code",
   "execution_count": 104,
   "metadata": {},
   "outputs": [],
   "source": [
    "# Convert int_rate to numeric\n",
    "loans[\"int_rate\"] = loans[\"int_rate\"].gsub(pattern = \"%\", replacement = \"\") # strip %\n",
    "loans[\"int_rate\"] = loans[\"int_rate\"].trim() # trim ws\n",
    "loans[\"int_rate\"] = loans[\"int_rate\"].asnumeric() #change to a numeric "
   ]
  },
  {
   "cell_type": "code",
   "execution_count": 105,
   "metadata": {},
   "outputs": [
    {
     "data": {
      "text/html": [
       "<table>\n",
       "<thead>\n",
       "<tr><th style=\"text-align: right;\">  int_rate</th></tr>\n",
       "</thead>\n",
       "<tbody>\n",
       "<tr><td style=\"text-align: right;\">     10.65</td></tr>\n",
       "<tr><td style=\"text-align: right;\">     15.27</td></tr>\n",
       "<tr><td style=\"text-align: right;\">     15.96</td></tr>\n",
       "<tr><td style=\"text-align: right;\">     13.49</td></tr>\n",
       "<tr><td style=\"text-align: right;\">      7.9 </td></tr>\n",
       "<tr><td style=\"text-align: right;\">     18.64</td></tr>\n",
       "<tr><td style=\"text-align: right;\">     21.28</td></tr>\n",
       "<tr><td style=\"text-align: right;\">     12.69</td></tr>\n",
       "<tr><td style=\"text-align: right;\">     14.65</td></tr>\n",
       "<tr><td style=\"text-align: right;\">     12.69</td></tr>\n",
       "</tbody>\n",
       "</table>"
      ]
     },
     "metadata": {},
     "output_type": "display_data"
    },
    {
     "data": {
      "text/plain": []
     },
     "execution_count": 105,
     "metadata": {},
     "output_type": "execute_result"
    }
   ],
   "source": [
    "loans[\"int_rate\"].head()"
   ]
  },
  {
   "cell_type": "markdown",
   "metadata": {},
   "source": [
    "Now that we have converted interest rate to numeric, we can use the `hist` function to see the distribution of interest rate for good loans and bad loans."
   ]
  },
  {
   "cell_type": "markdown",
   "metadata": {},
   "source": [
    " The distribution of interest rate is very different for good loans.  This may be a helpful predictor in our model."
   ]
  },
  {
   "cell_type": "code",
   "execution_count": 106,
   "metadata": {},
   "outputs": [],
   "source": [
    "# Convert revol_util to numeric\n",
    "loans[\"revol_util\"] = loans[\"revol_util\"].gsub(pattern = \"%\", replacement = \"\") # strip %\n",
    "loans[\"revol_util\"] = loans[\"revol_util\"].trim() # trim ws\n",
    "loans[\"revol_util\"] = loans[\"revol_util\"].asnumeric() #change to a numeric "
   ]
  },
  {
   "cell_type": "code",
   "execution_count": 107,
   "metadata": {},
   "outputs": [],
   "source": [
    "# Convert emp_length to numeric\n",
    "# Use gsub to remove \" year\" and \" years\" also translate n/a to \"\" \n",
    "loans[\"emp_length\"] = loans[\"emp_length\"].gsub(pattern = \"([ ]*+[a-zA-Z].*)|(n/a)\", replacement = \"\") \n",
    "\n",
    "# Use trim to remove any trailing spaces \n",
    "loans[\"emp_length\"] = loans[\"emp_length\"].trim()\n",
    "\n",
    "# Convert emp_length to numeric \n",
    "# Use sub to convert < 1 to 0 years and do the same for 10 + to 10\n",
    "# Hint: Be mindful of spaces between characters\n",
    "loans[\"emp_length\"] = loans[\"emp_length\"].gsub(pattern = \"< 1\", replacement = \"0\")\n",
    "loans[\"emp_length\"] = loans[\"emp_length\"].gsub(pattern = \"10\\\\+\", replacement = \"10\")\n",
    "loans[\"emp_length\"] = loans[\"emp_length\"].asnumeric()"
   ]
  },
  {
   "cell_type": "code",
   "execution_count": 108,
   "metadata": {},
   "outputs": [
    {
     "data": {
      "text/html": [
       "<table>\n",
       "<thead>\n",
       "<tr><th style=\"text-align: right;\">  int_rate</th><th style=\"text-align: right;\">  revol_util</th><th style=\"text-align: right;\">  emp_length</th></tr>\n",
       "</thead>\n",
       "<tbody>\n",
       "<tr><td style=\"text-align: right;\">     10.65</td><td style=\"text-align: right;\">        83.7</td><td style=\"text-align: right;\">          10</td></tr>\n",
       "<tr><td style=\"text-align: right;\">     15.27</td><td style=\"text-align: right;\">         9.4</td><td style=\"text-align: right;\">           0</td></tr>\n",
       "<tr><td style=\"text-align: right;\">     15.96</td><td style=\"text-align: right;\">        98.5</td><td style=\"text-align: right;\">          10</td></tr>\n",
       "<tr><td style=\"text-align: right;\">     13.49</td><td style=\"text-align: right;\">        21  </td><td style=\"text-align: right;\">          10</td></tr>\n",
       "<tr><td style=\"text-align: right;\">      7.9 </td><td style=\"text-align: right;\">        28.3</td><td style=\"text-align: right;\">           3</td></tr>\n",
       "<tr><td style=\"text-align: right;\">     18.64</td><td style=\"text-align: right;\">        87.5</td><td style=\"text-align: right;\">           9</td></tr>\n",
       "<tr><td style=\"text-align: right;\">     21.28</td><td style=\"text-align: right;\">        32.6</td><td style=\"text-align: right;\">           4</td></tr>\n",
       "<tr><td style=\"text-align: right;\">     12.69</td><td style=\"text-align: right;\">        36.5</td><td style=\"text-align: right;\">           0</td></tr>\n",
       "<tr><td style=\"text-align: right;\">     14.65</td><td style=\"text-align: right;\">        20.6</td><td style=\"text-align: right;\">           5</td></tr>\n",
       "<tr><td style=\"text-align: right;\">     12.69</td><td style=\"text-align: right;\">        67.1</td><td style=\"text-align: right;\">          10</td></tr>\n",
       "</tbody>\n",
       "</table>"
      ]
     },
     "metadata": {},
     "output_type": "display_data"
    },
    {
     "data": {
      "text/plain": []
     },
     "execution_count": 108,
     "metadata": {},
     "output_type": "execute_result"
    }
   ],
   "source": [
    "loans[[\"int_rate\", \"revol_util\", \"emp_length\"]].head()"
   ]
  },
  {
   "cell_type": "markdown",
   "metadata": {},
   "source": [
    "We can also clean up the verification status column. There are multiple values that mean verified: `VERIFIED - income` and `VERIFIED - income source`.  We will replace these values with `verified`."
   ]
  },
  {
   "cell_type": "code",
   "execution_count": 109,
   "metadata": {},
   "outputs": [
    {
     "data": {
      "text/html": [
       "<table>\n",
       "<thead>\n",
       "<tr><th>verification_status     </th></tr>\n",
       "</thead>\n",
       "<tbody>\n",
       "<tr><td>VERIFIED - income       </td></tr>\n",
       "<tr><td>VERIFIED - income source</td></tr>\n",
       "<tr><td>not verified            </td></tr>\n",
       "<tr><td>VERIFIED - income source</td></tr>\n",
       "<tr><td>VERIFIED - income source</td></tr>\n",
       "<tr><td>VERIFIED - income source</td></tr>\n",
       "<tr><td>VERIFIED - income source</td></tr>\n",
       "<tr><td>VERIFIED - income       </td></tr>\n",
       "<tr><td>not verified            </td></tr>\n",
       "<tr><td>VERIFIED - income source</td></tr>\n",
       "</tbody>\n",
       "</table>"
      ]
     },
     "metadata": {},
     "output_type": "display_data"
    },
    {
     "data": {
      "text/plain": []
     },
     "execution_count": 109,
     "metadata": {},
     "output_type": "execute_result"
    }
   ],
   "source": [
    "loans[\"verification_status\"].head()"
   ]
  },
  {
   "cell_type": "code",
   "execution_count": 110,
   "metadata": {},
   "outputs": [],
   "source": [
    "loans[\"verification_status\"] = loans[\"verification_status\"].sub(pattern = \"VERIFIED - income source\", \n",
    "                                                                replacement = \"verified\")\n",
    "loans[\"verification_status\"] = loans[\"verification_status\"].sub(pattern = \"VERIFIED - income\", \n",
    "                                                                replacement = \"verified\")\n",
    "loans[\"verification_status\"] = loans[\"verification_status\"].asfactor()"
   ]
  },
  {
   "cell_type": "code",
   "execution_count": 111,
   "metadata": {},
   "outputs": [
    {
     "data": {
      "text/html": [
       "<table>\n",
       "<thead>\n",
       "<tr><th>verification_status  </th><th style=\"text-align: right;\">  Count</th></tr>\n",
       "</thead>\n",
       "<tbody>\n",
       "<tr><td>not verified         </td><td style=\"text-align: right;\">  17965</td></tr>\n",
       "<tr><td>verified             </td><td style=\"text-align: right;\">  21069</td></tr>\n",
       "</tbody>\n",
       "</table>"
      ]
     },
     "metadata": {},
     "output_type": "display_data"
    },
    {
     "data": {
      "text/plain": []
     },
     "execution_count": 111,
     "metadata": {},
     "output_type": "execute_result"
    }
   ],
   "source": [
    "loans[\"verification_status\"].table()"
   ]
  },
  {
   "cell_type": "markdown",
   "metadata": {},
   "source": [
    "# Step 4 (of 8).  Feature engineering\n",
    "\n",
    "Now that we have cleaned our data, we can add some new columns to our dataset that may help improve the performance of our supervised learning models.\n",
    "\n",
    "The new columns we will create are: \n",
    "* credit_length: the time from their earliest credit line to when they were issued the loan\n",
    "* expansion of issue date: extract year and month from the issue date\n",
    "* word embeddings from the loan description\n",
    "\n",
    "### Credit Length\n",
    "\n",
    "We can extract the credit length by subtracting the year they had their earliest credit line from the year when they issued the loan."
   ]
  },
  {
   "cell_type": "code",
   "execution_count": 112,
   "metadata": {},
   "outputs": [
    {
     "data": {
      "text/html": [
       "<table>\n",
       "<thead>\n",
       "<tr><th style=\"text-align: right;\">  credit_length</th></tr>\n",
       "</thead>\n",
       "<tbody>\n",
       "<tr><td style=\"text-align: right;\">             26</td></tr>\n",
       "<tr><td style=\"text-align: right;\">             12</td></tr>\n",
       "<tr><td style=\"text-align: right;\">             10</td></tr>\n",
       "<tr><td style=\"text-align: right;\">             15</td></tr>\n",
       "<tr><td style=\"text-align: right;\">              7</td></tr>\n",
       "<tr><td style=\"text-align: right;\">              4</td></tr>\n",
       "<tr><td style=\"text-align: right;\">              7</td></tr>\n",
       "<tr><td style=\"text-align: right;\">              7</td></tr>\n",
       "<tr><td style=\"text-align: right;\">             13</td></tr>\n",
       "<tr><td style=\"text-align: right;\">             22</td></tr>\n",
       "</tbody>\n",
       "</table>"
      ]
     },
     "metadata": {},
     "output_type": "display_data"
    },
    {
     "data": {
      "text/plain": []
     },
     "execution_count": 112,
     "metadata": {},
     "output_type": "execute_result"
    }
   ],
   "source": [
    "loans[\"credit_length\"] = loans[\"issue_d\"].year() - loans[\"earliest_cr_line\"].year()\n",
    "loans[\"credit_length\"].head()"
   ]
  },
  {
   "cell_type": "markdown",
   "metadata": {},
   "source": [
    "### Issue Date Expansion\n",
    "\n",
    "We can extract the year and month from the issue date.  We may find that the month or the year when the loan was issued can impact the probability of a bad loan."
   ]
  },
  {
   "cell_type": "code",
   "execution_count": 113,
   "metadata": {},
   "outputs": [],
   "source": [
    "loans[\"issue_d_year\"] = loans[\"issue_d\"].year()\n",
    "loans[\"issue_d_month\"] = loans[\"issue_d\"].month().asfactor()  # we will treat month as a enum/factor since its cyclical"
   ]
  },
  {
   "cell_type": "code",
   "execution_count": 114,
   "metadata": {},
   "outputs": [
    {
     "data": {
      "text/html": [
       "<table>\n",
       "<thead>\n",
       "<tr><th style=\"text-align: right;\">  issue_d_year</th><th style=\"text-align: right;\">  issue_d_month</th></tr>\n",
       "</thead>\n",
       "<tbody>\n",
       "<tr><td style=\"text-align: right;\">          2011</td><td style=\"text-align: right;\">             12</td></tr>\n",
       "<tr><td style=\"text-align: right;\">          2011</td><td style=\"text-align: right;\">             12</td></tr>\n",
       "<tr><td style=\"text-align: right;\">          2011</td><td style=\"text-align: right;\">             12</td></tr>\n",
       "<tr><td style=\"text-align: right;\">          2011</td><td style=\"text-align: right;\">             12</td></tr>\n",
       "<tr><td style=\"text-align: right;\">          2011</td><td style=\"text-align: right;\">             12</td></tr>\n",
       "<tr><td style=\"text-align: right;\">          2011</td><td style=\"text-align: right;\">             12</td></tr>\n",
       "<tr><td style=\"text-align: right;\">          2011</td><td style=\"text-align: right;\">             12</td></tr>\n",
       "<tr><td style=\"text-align: right;\">          2011</td><td style=\"text-align: right;\">             12</td></tr>\n",
       "<tr><td style=\"text-align: right;\">          2011</td><td style=\"text-align: right;\">             12</td></tr>\n",
       "<tr><td style=\"text-align: right;\">          2011</td><td style=\"text-align: right;\">             12</td></tr>\n",
       "</tbody>\n",
       "</table>"
      ]
     },
     "metadata": {},
     "output_type": "display_data"
    },
    {
     "data": {
      "text/plain": []
     },
     "execution_count": 114,
     "metadata": {},
     "output_type": "execute_result"
    }
   ],
   "source": [
    "loans[[\"issue_d_year\", \"issue_d_month\"]].head()"
   ]
  },
  {
   "cell_type": "markdown",
   "metadata": {},
   "source": [
    "### Word Embeddings\n",
    "\n",
    "One of the columns in our dataset is a description of why the loan was requested. The first few descriptions in the dataset are shown below."
   ]
  },
  {
   "cell_type": "code",
   "execution_count": 115,
   "metadata": {
    "scrolled": true
   },
   "outputs": [
    {
     "data": {
      "text/html": [
       "<table>\n",
       "<thead>\n",
       "<tr><th>desc                                                                                                                                                                                                                                                                                                                                                                                                                                                                                                                                                                                                        </th></tr>\n",
       "</thead>\n",
       "<tbody>\n",
       "<tr><td>Borrower added on 12/22/11 > I need to upgrade my business technologies.<br>                                                                                                                                                                                                                                                                                                                                                                                                                                                                                                                                </td></tr>\n",
       "<tr><td>Borrower added on 12/22/11 > I plan to use this money to finance the motorcycle i am looking at. I plan to have it paid off as soon as possible/when i sell my old bike. I only need this money because the deal im looking at is to good to pass up.<br><br>  Borrower added on 12/22/11 > I plan to use this money to finance the motorcycle i am looking at. I plan to have it paid off as soon as possible/when i sell my old bike.I only need this money because the deal im looking at is to good to pass up. I have finished college with an associates degree in business and its takingmeplaces<br></td></tr>\n",
       "<tr><td>                                                                                                                                                                                                                                                                                                                                                                                                                                                                                                                                                                                                            </td></tr>\n",
       "<tr><td>Borrower added on 12/21/11 > to pay for property tax (borrow from friend, need to pay back) & central A/C need to be replace. I'm very sorry to let my loan expired last time.<br>                                                                                                                                                                                                                                                                                                                                                                                                                          </td></tr>\n",
       "<tr><td>                                                                                                                                                                                                                                                                                                                                                                                                                                                                                                                                                                                                            </td></tr>\n",
       "<tr><td>Borrower added on 12/16/11 > Downpayment for a car.<br>                                                                                                                                                                                                                                                                                                                                                                                                                                                                                                                                                     </td></tr>\n",
       "<tr><td>Borrower added on 12/21/11 > I own a small home-based judgment collection business. I have 5 years experience collecting debts. I am now going from a home office to a small office. I also plan to buy a small debt portfolio (eg. $10K for $1M of debt) <br>My score is not A+ because I own my home and have no mortgage.<br>                                                                                                                                                                                                                                                                            </td></tr>\n",
       "<tr><td>Borrower added on 12/16/11 > I'm trying to build up my credit history. I live with my brother and have no car payment or credit cards. I am in community college and work full time. Im going to use the money to make some repairs around the house and get some maintenance done on my car.<br><br>  Borrower added on 12/20/11 > $1000 down only $4375 to go. Thanks to everyone that invested so far, looking forward to surprising my brother with the fixes around the house.<br>                                                                                                                     </td></tr>\n",
       "<tr><td>Borrower added on 12/15/11 > I had recived a loan from Citi Financial about a year ago, I was paying 29.99 intrest, so the refinance is to cut that rate since cleaning up my credit I have been paying everything on time as shown on my credit report<br>                                                                                                                                                                                                                                                                                                                                                 </td></tr>\n",
       "<tr><td>                                                                                                                                                                                                                                                                                                                                                                                                                                                                                                                                                                                                            </td></tr>\n",
       "</tbody>\n",
       "</table>"
      ]
     },
     "metadata": {},
     "output_type": "display_data"
    },
    {
     "data": {
      "text/plain": []
     },
     "execution_count": 115,
     "metadata": {},
     "output_type": "execute_result"
    }
   ],
   "source": [
    "loans[\"desc\"].head()"
   ]
  },
  {
   "cell_type": "markdown",
   "metadata": {},
   "source": [
    "This information may be important to the model but supervised learning algorithms have a hard time understanding text.  Instead we will convert these strings to a numeric vector using the Word2Vec algorithm."
   ]
  },
  {
   "cell_type": "code",
   "execution_count": 116,
   "metadata": {},
   "outputs": [],
   "source": [
    "STOP_WORDS = [\"ax\",\"i\",\"you\",\"edu\",\"s\",\"t\",\"m\",\"subject\",\"can\",\"lines\",\"re\",\"what\",\n",
    "              \"there\",\"all\",\"we\",\"one\",\"the\",\"a\",\"an\",\"of\",\"or\",\"in\",\"for\",\"by\",\"on\",\n",
    "              \"but\",\"is\",\"in\",\"a\",\"not\",\"with\",\"as\",\"was\",\"if\",\"they\",\"are\",\"this\",\"and\",\"it\",\"have\",\n",
    "              \"from\",\"at\",\"my\",\"be\",\"by\",\"not\",\"that\",\"to\",\"from\",\"com\",\"org\",\"like\",\"likes\",\"so\"]"
   ]
  },
  {
   "cell_type": "code",
   "execution_count": 117,
   "metadata": {},
   "outputs": [],
   "source": [
    "def tokenize(sentences, stop_word = STOP_WORDS):\n",
    "    tokenized = sentences.tokenize(\"\\\\W+\")\n",
    "    tokenized_lower = tokenized.tolower()\n",
    "    tokenized_filtered = tokenized_lower[(tokenized_lower.nchar() >= 2) | (tokenized_lower.isna()),:]\n",
    "    tokenized_words = tokenized_filtered[tokenized_filtered.grep(\"[0-9]\",invert=True,output_logical=True),:]\n",
    "    tokenized_words = tokenized_words[(tokenized_words.isna()) | (~ tokenized_words.isin(STOP_WORDS)),:]\n",
    "    return tokenized_words"
   ]
  },
  {
   "cell_type": "code",
   "execution_count": 118,
   "metadata": {},
   "outputs": [],
   "source": [
    "# Break loan description into sequence of words\n",
    "words = tokenize(loans[\"desc\"].ascharacter())"
   ]
  },
  {
   "cell_type": "code",
   "execution_count": 119,
   "metadata": {},
   "outputs": [
    {
     "name": "stdout",
     "output_type": "stream",
     "text": [
      "word2vec Model Build progress: |██████████████████████████████████████████| 100%\n"
     ]
    }
   ],
   "source": [
    "# Train Word2Vec Model\n",
    "from h2o.estimators.word2vec import H2OWord2vecEstimator\n",
    "\n",
    "w2v_model = H2OWord2vecEstimator(vec_size = 100, model_id = \"w2v.hex\")\n",
    "w2v_model.train(training_frame=words)"
   ]
  },
  {
   "cell_type": "code",
   "execution_count": 120,
   "metadata": {},
   "outputs": [
    {
     "data": {
      "text/plain": [
       "OrderedDict([('auto', 0.7504355907440186),\n",
       "             ('vehicle', 0.728424072265625),\n",
       "             ('prius', 0.7114761471748352),\n",
       "             ('camry', 0.6935193538665771),\n",
       "             ('acura', 0.6830691695213318)])"
      ]
     },
     "execution_count": 120,
     "metadata": {},
     "output_type": "execute_result"
    }
   ],
   "source": [
    "# Sanity check - find synonyms for the word 'car'\n",
    "w2v_model.find_synonyms(\"car\", count = 5)"
   ]
  },
  {
   "cell_type": "code",
   "execution_count": 121,
   "metadata": {},
   "outputs": [],
   "source": [
    "# Calculate a vector for each description\n",
    "desc_vecs = w2v_model.transform(words, aggregate_method = \"AVERAGE\")"
   ]
  },
  {
   "cell_type": "code",
   "execution_count": 122,
   "metadata": {},
   "outputs": [
    {
     "data": {
      "text/html": [
       "<table>\n",
       "<thead>\n",
       "<tr><th style=\"text-align: right;\">         C1</th><th style=\"text-align: right;\">        C2</th><th style=\"text-align: right;\">          C3</th><th style=\"text-align: right;\">         C4</th><th style=\"text-align: right;\">          C5</th><th style=\"text-align: right;\">         C6</th><th style=\"text-align: right;\">         C7</th><th style=\"text-align: right;\">         C8</th><th style=\"text-align: right;\">         C9</th><th style=\"text-align: right;\">          C10</th><th style=\"text-align: right;\">        C11</th><th style=\"text-align: right;\">        C12</th><th style=\"text-align: right;\">          C13</th><th style=\"text-align: right;\">        C14</th><th style=\"text-align: right;\">       C15</th><th style=\"text-align: right;\">       C16</th><th style=\"text-align: right;\">        C17</th><th style=\"text-align: right;\">       C18</th><th style=\"text-align: right;\">         C19</th><th style=\"text-align: right;\">        C20</th><th style=\"text-align: right;\">         C21</th><th style=\"text-align: right;\">         C22</th><th style=\"text-align: right;\">       C23</th><th style=\"text-align: right;\">        C24</th><th style=\"text-align: right;\">         C25</th><th style=\"text-align: right;\">       C26</th><th style=\"text-align: right;\">        C27</th><th style=\"text-align: right;\">        C28</th><th style=\"text-align: right;\">        C29</th><th style=\"text-align: right;\">         C30</th><th style=\"text-align: right;\">        C31</th><th style=\"text-align: right;\">        C32</th><th style=\"text-align: right;\">        C33</th><th style=\"text-align: right;\">          C34</th><th style=\"text-align: right;\">        C35</th><th style=\"text-align: right;\">        C36</th><th style=\"text-align: right;\">       C37</th><th style=\"text-align: right;\">         C38</th><th style=\"text-align: right;\">          C39</th><th style=\"text-align: right;\">         C40</th><th style=\"text-align: right;\">        C41</th><th style=\"text-align: right;\">        C42</th><th style=\"text-align: right;\">        C43</th><th style=\"text-align: right;\">         C44</th><th style=\"text-align: right;\">        C45</th><th style=\"text-align: right;\">       C46</th><th style=\"text-align: right;\">         C47</th><th style=\"text-align: right;\">         C48</th><th style=\"text-align: right;\">         C49</th><th style=\"text-align: right;\">        C50</th><th style=\"text-align: right;\">        C51</th><th style=\"text-align: right;\">         C52</th><th style=\"text-align: right;\">        C53</th><th style=\"text-align: right;\">         C54</th><th style=\"text-align: right;\">        C55</th><th style=\"text-align: right;\">         C56</th><th style=\"text-align: right;\">         C57</th><th style=\"text-align: right;\">        C58</th><th style=\"text-align: right;\">        C59</th><th style=\"text-align: right;\">        C60</th><th style=\"text-align: right;\">        C61</th><th style=\"text-align: right;\">         C62</th><th style=\"text-align: right;\">        C63</th><th style=\"text-align: right;\">         C64</th><th style=\"text-align: right;\">        C65</th><th style=\"text-align: right;\">        C66</th><th style=\"text-align: right;\">        C67</th><th style=\"text-align: right;\">        C68</th><th style=\"text-align: right;\">        C69</th><th style=\"text-align: right;\">         C70</th><th style=\"text-align: right;\">       C71</th><th style=\"text-align: right;\">       C72</th><th style=\"text-align: right;\">         C73</th><th style=\"text-align: right;\">        C74</th><th style=\"text-align: right;\">         C75</th><th style=\"text-align: right;\">          C76</th><th style=\"text-align: right;\">        C77</th><th style=\"text-align: right;\">        C78</th><th style=\"text-align: right;\">         C79</th><th style=\"text-align: right;\">        C80</th><th style=\"text-align: right;\">        C81</th><th style=\"text-align: right;\">        C82</th><th style=\"text-align: right;\">        C83</th><th style=\"text-align: right;\">        C84</th><th style=\"text-align: right;\">          C85</th><th style=\"text-align: right;\">        C86</th><th style=\"text-align: right;\">         C87</th><th style=\"text-align: right;\">         C88</th><th style=\"text-align: right;\">        C89</th><th style=\"text-align: right;\">        C90</th><th style=\"text-align: right;\">         C91</th><th style=\"text-align: right;\">        C92</th><th style=\"text-align: right;\">         C93</th><th style=\"text-align: right;\">        C94</th><th style=\"text-align: right;\">       C95</th><th style=\"text-align: right;\">        C96</th><th style=\"text-align: right;\">        C97</th><th style=\"text-align: right;\">        C98</th><th style=\"text-align: right;\">        C99</th><th style=\"text-align: right;\">        C100</th></tr>\n",
       "</thead>\n",
       "<tbody>\n",
       "<tr><td style=\"text-align: right;\"> -0.0404573</td><td style=\"text-align: right;\"> -0.108231</td><td style=\"text-align: right;\"> -0.0601569 </td><td style=\"text-align: right;\"> -0.199214 </td><td style=\"text-align: right;\">  0.103919  </td><td style=\"text-align: right;\"> -0.0695549</td><td style=\"text-align: right;\">  0.0695383</td><td style=\"text-align: right;\">  0.0602171</td><td style=\"text-align: right;\">  0.143025 </td><td style=\"text-align: right;\"> -0.000508333</td><td style=\"text-align: right;\">  0.0242225</td><td style=\"text-align: right;\"> -0.0311679</td><td style=\"text-align: right;\"> -0.0844807  </td><td style=\"text-align: right;\"> -0.0527826</td><td style=\"text-align: right;\"> -0.134575</td><td style=\"text-align: right;\"> -0.300299</td><td style=\"text-align: right;\">  0.0807582</td><td style=\"text-align: right;\"> -0.103259</td><td style=\"text-align: right;\"> -0.0339295 </td><td style=\"text-align: right;\">  0.194113 </td><td style=\"text-align: right;\">  0.00302163</td><td style=\"text-align: right;\"> -0.232018  </td><td style=\"text-align: right;\">  0.183362</td><td style=\"text-align: right;\">  0.125311 </td><td style=\"text-align: right;\">  0.0559339 </td><td style=\"text-align: right;\"> -0.200824</td><td style=\"text-align: right;\">  0.100802 </td><td style=\"text-align: right;\"> -0.0625727</td><td style=\"text-align: right;\"> -0.0414394</td><td style=\"text-align: right;\"> -0.00649851</td><td style=\"text-align: right;\"> -0.271884 </td><td style=\"text-align: right;\"> -0.0275973</td><td style=\"text-align: right;\">  0.0898061</td><td style=\"text-align: right;\"> -0.121293   </td><td style=\"text-align: right;\"> -0.164997 </td><td style=\"text-align: right;\">  0.116328 </td><td style=\"text-align: right;\">  0.350312</td><td style=\"text-align: right;\">  0.0203967 </td><td style=\"text-align: right;\"> -0.01532    </td><td style=\"text-align: right;\"> -0.109209  </td><td style=\"text-align: right;\">  0.0887381</td><td style=\"text-align: right;\"> -0.220377 </td><td style=\"text-align: right;\">  0.0697567</td><td style=\"text-align: right;\"> -0.0801428 </td><td style=\"text-align: right;\"> -0.0287647</td><td style=\"text-align: right;\">  0.130364</td><td style=\"text-align: right;\"> -0.0422939 </td><td style=\"text-align: right;\">  0.0633204 </td><td style=\"text-align: right;\">  0.00150056</td><td style=\"text-align: right;\"> -0.111577 </td><td style=\"text-align: right;\">  0.0389992</td><td style=\"text-align: right;\">  0.0839094 </td><td style=\"text-align: right;\">  0.0669141</td><td style=\"text-align: right;\"> -0.00381826</td><td style=\"text-align: right;\"> -0.0178501</td><td style=\"text-align: right;\"> -0.109518  </td><td style=\"text-align: right;\"> -0.0203823 </td><td style=\"text-align: right;\"> -0.14272  </td><td style=\"text-align: right;\"> -0.0163341</td><td style=\"text-align: right;\">  0.0155258</td><td style=\"text-align: right;\"> -0.160649 </td><td style=\"text-align: right;\"> -0.187713  </td><td style=\"text-align: right;\">  0.0909331</td><td style=\"text-align: right;\"> -0.0117668 </td><td style=\"text-align: right;\">  0.0958673</td><td style=\"text-align: right;\"> -0.251507 </td><td style=\"text-align: right;\">  0.0977499</td><td style=\"text-align: right;\"> -0.235069 </td><td style=\"text-align: right;\">  0.0751441</td><td style=\"text-align: right;\"> -0.121003  </td><td style=\"text-align: right;\">  0.1066  </td><td style=\"text-align: right;\"> -0.186996</td><td style=\"text-align: right;\">  0.038842  </td><td style=\"text-align: right;\"> -0.125605 </td><td style=\"text-align: right;\"> -0.0352568 </td><td style=\"text-align: right;\"> -0.000846354</td><td style=\"text-align: right;\"> -0.0669478</td><td style=\"text-align: right;\">  0.0685601</td><td style=\"text-align: right;\"> -0.057111  </td><td style=\"text-align: right;\"> -0.116316 </td><td style=\"text-align: right;\">  0.0174296</td><td style=\"text-align: right;\"> -0.0338879</td><td style=\"text-align: right;\"> -0.0623175</td><td style=\"text-align: right;\">  0.104836 </td><td style=\"text-align: right;\">  0.0677168  </td><td style=\"text-align: right;\">  0.0499941</td><td style=\"text-align: right;\"> -0.125392  </td><td style=\"text-align: right;\"> -0.00913227</td><td style=\"text-align: right;\">  0.203413 </td><td style=\"text-align: right;\"> -0.167972 </td><td style=\"text-align: right;\"> -0.00367533</td><td style=\"text-align: right;\"> -0.0581364</td><td style=\"text-align: right;\">  0.14796   </td><td style=\"text-align: right;\"> -0.101187 </td><td style=\"text-align: right;\">  0.30293 </td><td style=\"text-align: right;\"> -0.113993 </td><td style=\"text-align: right;\"> -0.0720578</td><td style=\"text-align: right;\">  0.044962 </td><td style=\"text-align: right;\"> -0.0422213</td><td style=\"text-align: right;\"> -0.00148948</td></tr>\n",
       "<tr><td style=\"text-align: right;\"> -0.0411143</td><td style=\"text-align: right;\"> -0.18323 </td><td style=\"text-align: right;\"> -0.00488394</td><td style=\"text-align: right;\"> -0.0296727</td><td style=\"text-align: right;\">  0.0918286 </td><td style=\"text-align: right;\"> -0.0578487</td><td style=\"text-align: right;\">  0.114483 </td><td style=\"text-align: right;\">  0.214685 </td><td style=\"text-align: right;\">  0.0612558</td><td style=\"text-align: right;\"> -0.0163542  </td><td style=\"text-align: right;\">  0.148928 </td><td style=\"text-align: right;\"> -0.0913887</td><td style=\"text-align: right;\"> -0.0615875  </td><td style=\"text-align: right;\"> -0.126263 </td><td style=\"text-align: right;\"> -0.118428</td><td style=\"text-align: right;\"> -0.203697</td><td style=\"text-align: right;\">  0.117475 </td><td style=\"text-align: right;\"> -0.202226</td><td style=\"text-align: right;\"> -0.147388  </td><td style=\"text-align: right;\">  0.157314 </td><td style=\"text-align: right;\">  0.137634  </td><td style=\"text-align: right;\"> -0.00876394</td><td style=\"text-align: right;\">  0.119352</td><td style=\"text-align: right;\">  0.085425 </td><td style=\"text-align: right;\"> -0.00588222</td><td style=\"text-align: right;\"> -0.144601</td><td style=\"text-align: right;\">  0.127552 </td><td style=\"text-align: right;\"> -0.120203 </td><td style=\"text-align: right;\"> -0.0783861</td><td style=\"text-align: right;\">  0.0283912 </td><td style=\"text-align: right;\"> -0.239652 </td><td style=\"text-align: right;\"> -0.135632 </td><td style=\"text-align: right;\">  0.0272464</td><td style=\"text-align: right;\"> -0.0706077  </td><td style=\"text-align: right;\"> -0.0885793</td><td style=\"text-align: right;\"> -0.0518372</td><td style=\"text-align: right;\">  0.224037</td><td style=\"text-align: right;\">  0.0331913 </td><td style=\"text-align: right;\">  0.0226432  </td><td style=\"text-align: right;\">  0.0157093 </td><td style=\"text-align: right;\"> -0.0232196</td><td style=\"text-align: right;\"> -0.0754991</td><td style=\"text-align: right;\">  0.0214566</td><td style=\"text-align: right;\"> -0.035631  </td><td style=\"text-align: right;\"> -0.0790629</td><td style=\"text-align: right;\">  0.153112</td><td style=\"text-align: right;\"> -0.104327  </td><td style=\"text-align: right;\">  0.0185604 </td><td style=\"text-align: right;\"> -0.0164273 </td><td style=\"text-align: right;\"> -0.0507387</td><td style=\"text-align: right;\">  0.0678177</td><td style=\"text-align: right;\">  0.0153213 </td><td style=\"text-align: right;\"> -0.0770876</td><td style=\"text-align: right;\">  0.0486663 </td><td style=\"text-align: right;\">  0.129321 </td><td style=\"text-align: right;\"> -0.0376274 </td><td style=\"text-align: right;\">  0.00304052</td><td style=\"text-align: right;\"> -0.124351 </td><td style=\"text-align: right;\"> -0.0606938</td><td style=\"text-align: right;\"> -0.0049937</td><td style=\"text-align: right;\"> -0.110103 </td><td style=\"text-align: right;\"> -0.111869  </td><td style=\"text-align: right;\">  0.116424 </td><td style=\"text-align: right;\">  0.0974101 </td><td style=\"text-align: right;\">  0.0876954</td><td style=\"text-align: right;\"> -0.0703851</td><td style=\"text-align: right;\">  0.0544007</td><td style=\"text-align: right;\"> -0.121447 </td><td style=\"text-align: right;\">  0.0308085</td><td style=\"text-align: right;\">  0.0684521 </td><td style=\"text-align: right;\">  0.175338</td><td style=\"text-align: right;\"> -0.20544 </td><td style=\"text-align: right;\"> -0.0393109 </td><td style=\"text-align: right;\"> -0.089659 </td><td style=\"text-align: right;\"> -0.0110223 </td><td style=\"text-align: right;\"> -0.0345273  </td><td style=\"text-align: right;\"> -0.162547 </td><td style=\"text-align: right;\">  0.163878 </td><td style=\"text-align: right;\"> -0.0286499 </td><td style=\"text-align: right;\"> -0.186911 </td><td style=\"text-align: right;\">  0.060524 </td><td style=\"text-align: right;\"> -0.125388 </td><td style=\"text-align: right;\">  0.0111062</td><td style=\"text-align: right;\">  0.0203173</td><td style=\"text-align: right;\"> -0.0335402  </td><td style=\"text-align: right;\"> -0.0647333</td><td style=\"text-align: right;\"> -0.0586947 </td><td style=\"text-align: right;\">  0.0440487 </td><td style=\"text-align: right;\">  0.160874 </td><td style=\"text-align: right;\"> -0.0911625</td><td style=\"text-align: right;\"> -0.0544053 </td><td style=\"text-align: right;\"> -0.0495039</td><td style=\"text-align: right;\"> -0.0620164 </td><td style=\"text-align: right;\">  0.0735328</td><td style=\"text-align: right;\">  0.237238</td><td style=\"text-align: right;\"> -0.0884225</td><td style=\"text-align: right;\">  0.0263291</td><td style=\"text-align: right;\"> -0.0189554</td><td style=\"text-align: right;\"> -0.120184 </td><td style=\"text-align: right;\"> -0.0392095 </td></tr>\n",
       "<tr><td style=\"text-align: right;\">nan        </td><td style=\"text-align: right;\">nan       </td><td style=\"text-align: right;\">nan         </td><td style=\"text-align: right;\">nan        </td><td style=\"text-align: right;\">nan         </td><td style=\"text-align: right;\">nan        </td><td style=\"text-align: right;\">nan        </td><td style=\"text-align: right;\">nan        </td><td style=\"text-align: right;\">nan        </td><td style=\"text-align: right;\">nan          </td><td style=\"text-align: right;\">nan        </td><td style=\"text-align: right;\">nan        </td><td style=\"text-align: right;\">nan          </td><td style=\"text-align: right;\">nan        </td><td style=\"text-align: right;\">nan       </td><td style=\"text-align: right;\">nan       </td><td style=\"text-align: right;\">nan        </td><td style=\"text-align: right;\">nan       </td><td style=\"text-align: right;\">nan         </td><td style=\"text-align: right;\">nan        </td><td style=\"text-align: right;\">nan         </td><td style=\"text-align: right;\">nan         </td><td style=\"text-align: right;\">nan       </td><td style=\"text-align: right;\">nan        </td><td style=\"text-align: right;\">nan         </td><td style=\"text-align: right;\">nan       </td><td style=\"text-align: right;\">nan        </td><td style=\"text-align: right;\">nan        </td><td style=\"text-align: right;\">nan        </td><td style=\"text-align: right;\">nan         </td><td style=\"text-align: right;\">nan        </td><td style=\"text-align: right;\">nan        </td><td style=\"text-align: right;\">nan        </td><td style=\"text-align: right;\">nan          </td><td style=\"text-align: right;\">nan        </td><td style=\"text-align: right;\">nan        </td><td style=\"text-align: right;\">nan       </td><td style=\"text-align: right;\">nan         </td><td style=\"text-align: right;\">nan          </td><td style=\"text-align: right;\">nan         </td><td style=\"text-align: right;\">nan        </td><td style=\"text-align: right;\">nan        </td><td style=\"text-align: right;\">nan        </td><td style=\"text-align: right;\">nan         </td><td style=\"text-align: right;\">nan        </td><td style=\"text-align: right;\">nan       </td><td style=\"text-align: right;\">nan         </td><td style=\"text-align: right;\">nan         </td><td style=\"text-align: right;\">nan         </td><td style=\"text-align: right;\">nan        </td><td style=\"text-align: right;\">nan        </td><td style=\"text-align: right;\">nan         </td><td style=\"text-align: right;\">nan        </td><td style=\"text-align: right;\">nan         </td><td style=\"text-align: right;\">nan        </td><td style=\"text-align: right;\">nan         </td><td style=\"text-align: right;\">nan         </td><td style=\"text-align: right;\">nan        </td><td style=\"text-align: right;\">nan        </td><td style=\"text-align: right;\">nan        </td><td style=\"text-align: right;\">nan        </td><td style=\"text-align: right;\">nan         </td><td style=\"text-align: right;\">nan        </td><td style=\"text-align: right;\">nan         </td><td style=\"text-align: right;\">nan        </td><td style=\"text-align: right;\">nan        </td><td style=\"text-align: right;\">nan        </td><td style=\"text-align: right;\">nan        </td><td style=\"text-align: right;\">nan        </td><td style=\"text-align: right;\">nan         </td><td style=\"text-align: right;\">nan       </td><td style=\"text-align: right;\">nan       </td><td style=\"text-align: right;\">nan         </td><td style=\"text-align: right;\">nan        </td><td style=\"text-align: right;\">nan         </td><td style=\"text-align: right;\">nan          </td><td style=\"text-align: right;\">nan        </td><td style=\"text-align: right;\">nan        </td><td style=\"text-align: right;\">nan         </td><td style=\"text-align: right;\">nan        </td><td style=\"text-align: right;\">nan        </td><td style=\"text-align: right;\">nan        </td><td style=\"text-align: right;\">nan        </td><td style=\"text-align: right;\">nan        </td><td style=\"text-align: right;\">nan          </td><td style=\"text-align: right;\">nan        </td><td style=\"text-align: right;\">nan         </td><td style=\"text-align: right;\">nan         </td><td style=\"text-align: right;\">nan        </td><td style=\"text-align: right;\">nan        </td><td style=\"text-align: right;\">nan         </td><td style=\"text-align: right;\">nan        </td><td style=\"text-align: right;\">nan         </td><td style=\"text-align: right;\">nan        </td><td style=\"text-align: right;\">nan       </td><td style=\"text-align: right;\">nan        </td><td style=\"text-align: right;\">nan        </td><td style=\"text-align: right;\">nan        </td><td style=\"text-align: right;\">nan        </td><td style=\"text-align: right;\">nan         </td></tr>\n",
       "<tr><td style=\"text-align: right;\"> -0.0331148</td><td style=\"text-align: right;\"> -0.105623</td><td style=\"text-align: right;\"> -0.0899986 </td><td style=\"text-align: right;\"> -0.04033  </td><td style=\"text-align: right;\">  0.055419  </td><td style=\"text-align: right;\"> -0.0524404</td><td style=\"text-align: right;\">  0.15729  </td><td style=\"text-align: right;\">  0.253183 </td><td style=\"text-align: right;\">  0.0952466</td><td style=\"text-align: right;\"> -0.00842362 </td><td style=\"text-align: right;\">  0.0749748</td><td style=\"text-align: right;\"> -0.148339 </td><td style=\"text-align: right;\">  0.00740833 </td><td style=\"text-align: right;\"> -0.0497456</td><td style=\"text-align: right;\"> -0.137387</td><td style=\"text-align: right;\"> -0.180671</td><td style=\"text-align: right;\">  0.0890175</td><td style=\"text-align: right;\"> -0.170328</td><td style=\"text-align: right;\"> -0.0592206 </td><td style=\"text-align: right;\">  0.151138 </td><td style=\"text-align: right;\">  0.0851469 </td><td style=\"text-align: right;\">  0.0124228 </td><td style=\"text-align: right;\">  0.127153</td><td style=\"text-align: right;\">  0.0196362</td><td style=\"text-align: right;\"> -0.0121758 </td><td style=\"text-align: right;\"> -0.22941 </td><td style=\"text-align: right;\">  0.163483 </td><td style=\"text-align: right;\"> -0.13434  </td><td style=\"text-align: right;\"> -0.0410299</td><td style=\"text-align: right;\">  0.0216211 </td><td style=\"text-align: right;\"> -0.152035 </td><td style=\"text-align: right;\"> -0.0285557</td><td style=\"text-align: right;\">  0.118573 </td><td style=\"text-align: right;\"> -0.0149605  </td><td style=\"text-align: right;\"> -0.137879 </td><td style=\"text-align: right;\"> -0.0228922</td><td style=\"text-align: right;\">  0.211693</td><td style=\"text-align: right;\"> -0.00790672</td><td style=\"text-align: right;\">  0.000488963</td><td style=\"text-align: right;\">  0.0277794 </td><td style=\"text-align: right;\">  0.142604 </td><td style=\"text-align: right;\"> -0.0391114</td><td style=\"text-align: right;\"> -0.0200254</td><td style=\"text-align: right;\"> -0.0111615 </td><td style=\"text-align: right;\"> -0.0729647</td><td style=\"text-align: right;\">  0.249439</td><td style=\"text-align: right;\"> -0.0527152 </td><td style=\"text-align: right;\">  0.0924203 </td><td style=\"text-align: right;\">  0.0637349 </td><td style=\"text-align: right;\"> -0.0227997</td><td style=\"text-align: right;\">  0.157045 </td><td style=\"text-align: right;\"> -0.0620058 </td><td style=\"text-align: right;\"> -0.0406295</td><td style=\"text-align: right;\">  0.0438578 </td><td style=\"text-align: right;\">  0.152058 </td><td style=\"text-align: right;\">  0.0289125 </td><td style=\"text-align: right;\"> -0.0985556 </td><td style=\"text-align: right;\"> -0.168036 </td><td style=\"text-align: right;\"> -0.0938038</td><td style=\"text-align: right;\">  0.111626 </td><td style=\"text-align: right;\"> -0.181619 </td><td style=\"text-align: right;\"> -0.0667556 </td><td style=\"text-align: right;\">  0.0773956</td><td style=\"text-align: right;\">  0.0607042 </td><td style=\"text-align: right;\">  0.115258 </td><td style=\"text-align: right;\"> -0.0787047</td><td style=\"text-align: right;\">  0.0650496</td><td style=\"text-align: right;\"> -0.12207  </td><td style=\"text-align: right;\">  0.054857 </td><td style=\"text-align: right;\">  0.00884414</td><td style=\"text-align: right;\">  0.186669</td><td style=\"text-align: right;\"> -0.244534</td><td style=\"text-align: right;\"> -0.0683264 </td><td style=\"text-align: right;\"> -0.100868 </td><td style=\"text-align: right;\"> -0.00288507</td><td style=\"text-align: right;\"> -0.0630574  </td><td style=\"text-align: right;\"> -0.0627064</td><td style=\"text-align: right;\">  0.0890322</td><td style=\"text-align: right;\">  0.00534892</td><td style=\"text-align: right;\"> -0.149176 </td><td style=\"text-align: right;\">  0.0198328</td><td style=\"text-align: right;\"> -0.158041 </td><td style=\"text-align: right;\">  0.0519668</td><td style=\"text-align: right;\">  0.0284438</td><td style=\"text-align: right;\"> -0.0731035  </td><td style=\"text-align: right;\">  0.0491306</td><td style=\"text-align: right;\"> -0.0463645 </td><td style=\"text-align: right;\"> -0.0216871 </td><td style=\"text-align: right;\">  0.199056 </td><td style=\"text-align: right;\"> -0.0803353</td><td style=\"text-align: right;\"> -0.00477103</td><td style=\"text-align: right;\"> -0.118015 </td><td style=\"text-align: right;\">  0.0462323 </td><td style=\"text-align: right;\">  0.0126319</td><td style=\"text-align: right;\">  0.257169</td><td style=\"text-align: right;\"> -0.0618337</td><td style=\"text-align: right;\">  0.120326 </td><td style=\"text-align: right;\">  0.0348068</td><td style=\"text-align: right;\"> -0.0132236</td><td style=\"text-align: right;\"> -0.0554333 </td></tr>\n",
       "<tr><td style=\"text-align: right;\">nan        </td><td style=\"text-align: right;\">nan       </td><td style=\"text-align: right;\">nan         </td><td style=\"text-align: right;\">nan        </td><td style=\"text-align: right;\">nan         </td><td style=\"text-align: right;\">nan        </td><td style=\"text-align: right;\">nan        </td><td style=\"text-align: right;\">nan        </td><td style=\"text-align: right;\">nan        </td><td style=\"text-align: right;\">nan          </td><td style=\"text-align: right;\">nan        </td><td style=\"text-align: right;\">nan        </td><td style=\"text-align: right;\">nan          </td><td style=\"text-align: right;\">nan        </td><td style=\"text-align: right;\">nan       </td><td style=\"text-align: right;\">nan       </td><td style=\"text-align: right;\">nan        </td><td style=\"text-align: right;\">nan       </td><td style=\"text-align: right;\">nan         </td><td style=\"text-align: right;\">nan        </td><td style=\"text-align: right;\">nan         </td><td style=\"text-align: right;\">nan         </td><td style=\"text-align: right;\">nan       </td><td style=\"text-align: right;\">nan        </td><td style=\"text-align: right;\">nan         </td><td style=\"text-align: right;\">nan       </td><td style=\"text-align: right;\">nan        </td><td style=\"text-align: right;\">nan        </td><td style=\"text-align: right;\">nan        </td><td style=\"text-align: right;\">nan         </td><td style=\"text-align: right;\">nan        </td><td style=\"text-align: right;\">nan        </td><td style=\"text-align: right;\">nan        </td><td style=\"text-align: right;\">nan          </td><td style=\"text-align: right;\">nan        </td><td style=\"text-align: right;\">nan        </td><td style=\"text-align: right;\">nan       </td><td style=\"text-align: right;\">nan         </td><td style=\"text-align: right;\">nan          </td><td style=\"text-align: right;\">nan         </td><td style=\"text-align: right;\">nan        </td><td style=\"text-align: right;\">nan        </td><td style=\"text-align: right;\">nan        </td><td style=\"text-align: right;\">nan         </td><td style=\"text-align: right;\">nan        </td><td style=\"text-align: right;\">nan       </td><td style=\"text-align: right;\">nan         </td><td style=\"text-align: right;\">nan         </td><td style=\"text-align: right;\">nan         </td><td style=\"text-align: right;\">nan        </td><td style=\"text-align: right;\">nan        </td><td style=\"text-align: right;\">nan         </td><td style=\"text-align: right;\">nan        </td><td style=\"text-align: right;\">nan         </td><td style=\"text-align: right;\">nan        </td><td style=\"text-align: right;\">nan         </td><td style=\"text-align: right;\">nan         </td><td style=\"text-align: right;\">nan        </td><td style=\"text-align: right;\">nan        </td><td style=\"text-align: right;\">nan        </td><td style=\"text-align: right;\">nan        </td><td style=\"text-align: right;\">nan         </td><td style=\"text-align: right;\">nan        </td><td style=\"text-align: right;\">nan         </td><td style=\"text-align: right;\">nan        </td><td style=\"text-align: right;\">nan        </td><td style=\"text-align: right;\">nan        </td><td style=\"text-align: right;\">nan        </td><td style=\"text-align: right;\">nan        </td><td style=\"text-align: right;\">nan         </td><td style=\"text-align: right;\">nan       </td><td style=\"text-align: right;\">nan       </td><td style=\"text-align: right;\">nan         </td><td style=\"text-align: right;\">nan        </td><td style=\"text-align: right;\">nan         </td><td style=\"text-align: right;\">nan          </td><td style=\"text-align: right;\">nan        </td><td style=\"text-align: right;\">nan        </td><td style=\"text-align: right;\">nan         </td><td style=\"text-align: right;\">nan        </td><td style=\"text-align: right;\">nan        </td><td style=\"text-align: right;\">nan        </td><td style=\"text-align: right;\">nan        </td><td style=\"text-align: right;\">nan        </td><td style=\"text-align: right;\">nan          </td><td style=\"text-align: right;\">nan        </td><td style=\"text-align: right;\">nan         </td><td style=\"text-align: right;\">nan         </td><td style=\"text-align: right;\">nan        </td><td style=\"text-align: right;\">nan        </td><td style=\"text-align: right;\">nan         </td><td style=\"text-align: right;\">nan        </td><td style=\"text-align: right;\">nan         </td><td style=\"text-align: right;\">nan        </td><td style=\"text-align: right;\">nan       </td><td style=\"text-align: right;\">nan        </td><td style=\"text-align: right;\">nan        </td><td style=\"text-align: right;\">nan        </td><td style=\"text-align: right;\">nan        </td><td style=\"text-align: right;\">nan         </td></tr>\n",
       "<tr><td style=\"text-align: right;\"> -0.129703 </td><td style=\"text-align: right;\"> -0.13759 </td><td style=\"text-align: right;\">  0.0577861 </td><td style=\"text-align: right;\">  0.0318862</td><td style=\"text-align: right;\">  0.00628665</td><td style=\"text-align: right;\"> -0.248199 </td><td style=\"text-align: right;\">  0.107294 </td><td style=\"text-align: right;\">  0.214578 </td><td style=\"text-align: right;\">  0.025499 </td><td style=\"text-align: right;\">  0.0666659  </td><td style=\"text-align: right;\">  0.14318  </td><td style=\"text-align: right;\">  0.0377945</td><td style=\"text-align: right;\">  9.95398e-06</td><td style=\"text-align: right;\"> -0.0509398</td><td style=\"text-align: right;\"> -0.206372</td><td style=\"text-align: right;\"> -0.263683</td><td style=\"text-align: right;\">  0.157642 </td><td style=\"text-align: right;\"> -0.198328</td><td style=\"text-align: right;\"> -0.0661392 </td><td style=\"text-align: right;\">  0.302035 </td><td style=\"text-align: right;\"> -0.0596145 </td><td style=\"text-align: right;\"> -0.0165319 </td><td style=\"text-align: right;\">  0.247609</td><td style=\"text-align: right;\"> -0.0201884</td><td style=\"text-align: right;\"> -0.1237    </td><td style=\"text-align: right;\"> -0.131198</td><td style=\"text-align: right;\">  0.179346 </td><td style=\"text-align: right;\"> -0.138125 </td><td style=\"text-align: right;\"> -0.129622 </td><td style=\"text-align: right;\">  0.0680147 </td><td style=\"text-align: right;\"> -0.299131 </td><td style=\"text-align: right;\"> -0.0624519</td><td style=\"text-align: right;\">  0.128694 </td><td style=\"text-align: right;\"> -0.196891   </td><td style=\"text-align: right;\"> -0.184524 </td><td style=\"text-align: right;\"> -0.0707657</td><td style=\"text-align: right;\">  0.206338</td><td style=\"text-align: right;\"> -0.0246083 </td><td style=\"text-align: right;\"> -0.0655351  </td><td style=\"text-align: right;\"> -0.0564162 </td><td style=\"text-align: right;\">  0.0585561</td><td style=\"text-align: right;\"> -0.0388456</td><td style=\"text-align: right;\">  0.0644063</td><td style=\"text-align: right;\"> -0.085372  </td><td style=\"text-align: right;\"> -0.115997 </td><td style=\"text-align: right;\">  0.358699</td><td style=\"text-align: right;\"> -0.00228232</td><td style=\"text-align: right;\">  0.0168863 </td><td style=\"text-align: right;\">  0.044353  </td><td style=\"text-align: right;\"> -0.0919425</td><td style=\"text-align: right;\">  0.0946046</td><td style=\"text-align: right;\">  0.00945497</td><td style=\"text-align: right;\">  0.0203576</td><td style=\"text-align: right;\"> -0.00157273</td><td style=\"text-align: right;\">  0.209808 </td><td style=\"text-align: right;\"> -0.0458633 </td><td style=\"text-align: right;\"> -0.0291518 </td><td style=\"text-align: right;\"> -0.163566 </td><td style=\"text-align: right;\"> -0.0712414</td><td style=\"text-align: right;\">  0.0424466</td><td style=\"text-align: right;\"> -0.0374099</td><td style=\"text-align: right;\"> -0.196188  </td><td style=\"text-align: right;\">  0.147376 </td><td style=\"text-align: right;\"> -0.0995894 </td><td style=\"text-align: right;\">  0.0125384</td><td style=\"text-align: right;\"> -0.017492 </td><td style=\"text-align: right;\">  0.0441864</td><td style=\"text-align: right;\"> -0.0225063</td><td style=\"text-align: right;\">  0.029414 </td><td style=\"text-align: right;\"> -0.0220878 </td><td style=\"text-align: right;\">  0.30747 </td><td style=\"text-align: right;\"> -0.220809</td><td style=\"text-align: right;\"> -0.0561889 </td><td style=\"text-align: right;\"> -0.113636 </td><td style=\"text-align: right;\">  0.0532086 </td><td style=\"text-align: right;\">  0.0580294  </td><td style=\"text-align: right;\"> -0.219542 </td><td style=\"text-align: right;\">  0.0580167</td><td style=\"text-align: right;\"> -0.0748884 </td><td style=\"text-align: right;\"> -0.17088  </td><td style=\"text-align: right;\"> -0.0495527</td><td style=\"text-align: right;\"> -0.205575 </td><td style=\"text-align: right;\">  0.0914104</td><td style=\"text-align: right;\">  0.168909 </td><td style=\"text-align: right;\"> -0.0787795  </td><td style=\"text-align: right;\"> -0.0945763</td><td style=\"text-align: right;\"> -0.110203  </td><td style=\"text-align: right;\"> -0.115857  </td><td style=\"text-align: right;\">  0.259687 </td><td style=\"text-align: right;\">  0.0032564</td><td style=\"text-align: right;\">  0.011995  </td><td style=\"text-align: right;\"> -0.0504726</td><td style=\"text-align: right;\">  0.15797   </td><td style=\"text-align: right;\">  0.0495057</td><td style=\"text-align: right;\">  0.376795</td><td style=\"text-align: right;\"> -0.0319449</td><td style=\"text-align: right;\"> -0.0749346</td><td style=\"text-align: right;\">  0.024891 </td><td style=\"text-align: right;\">  0.0334456</td><td style=\"text-align: right;\"> -0.115014  </td></tr>\n",
       "<tr><td style=\"text-align: right;\"> -0.024873 </td><td style=\"text-align: right;\"> -0.140817</td><td style=\"text-align: right;\">  0.0708312 </td><td style=\"text-align: right;\"> -0.114588 </td><td style=\"text-align: right;\">  0.0756027 </td><td style=\"text-align: right;\">  0.0157705</td><td style=\"text-align: right;\">  0.179898 </td><td style=\"text-align: right;\">  0.0493372</td><td style=\"text-align: right;\">  0.116339 </td><td style=\"text-align: right;\"> -0.0694091  </td><td style=\"text-align: right;\">  0.108665 </td><td style=\"text-align: right;\">  0.0244267</td><td style=\"text-align: right;\"> -0.151919   </td><td style=\"text-align: right;\"> -0.10129  </td><td style=\"text-align: right;\"> -0.084797</td><td style=\"text-align: right;\"> -0.182015</td><td style=\"text-align: right;\">  0.122754 </td><td style=\"text-align: right;\"> -0.137302</td><td style=\"text-align: right;\"> -0.00817214</td><td style=\"text-align: right;\">  0.144145 </td><td style=\"text-align: right;\">  0.0972776 </td><td style=\"text-align: right;\"> -0.0470981 </td><td style=\"text-align: right;\">  0.141699</td><td style=\"text-align: right;\">  0.0406101</td><td style=\"text-align: right;\">  0.0392016 </td><td style=\"text-align: right;\"> -0.159422</td><td style=\"text-align: right;\">  0.0829877</td><td style=\"text-align: right;\"> -0.120058 </td><td style=\"text-align: right;\"> -0.169431 </td><td style=\"text-align: right;\"> -0.0044977 </td><td style=\"text-align: right;\"> -0.1546   </td><td style=\"text-align: right;\"> -0.0659307</td><td style=\"text-align: right;\">  0.0241918</td><td style=\"text-align: right;\"> -0.000369986</td><td style=\"text-align: right;\"> -0.159441 </td><td style=\"text-align: right;\">  0.0656574</td><td style=\"text-align: right;\">  0.201987</td><td style=\"text-align: right;\">  0.0185662 </td><td style=\"text-align: right;\">  0.0248547  </td><td style=\"text-align: right;\">  0.0194688 </td><td style=\"text-align: right;\">  0.0890636</td><td style=\"text-align: right;\"> -0.166028 </td><td style=\"text-align: right;\">  0.113809 </td><td style=\"text-align: right;\"> -0.0274847 </td><td style=\"text-align: right;\"> -0.0701057</td><td style=\"text-align: right;\">  0.127006</td><td style=\"text-align: right;\"> -0.0993219 </td><td style=\"text-align: right;\">  0.00661927</td><td style=\"text-align: right;\">  0.018634  </td><td style=\"text-align: right;\"> -0.119652 </td><td style=\"text-align: right;\">  0.0940487</td><td style=\"text-align: right;\">  0.0577719 </td><td style=\"text-align: right;\"> -0.116397 </td><td style=\"text-align: right;\">  0.0721908 </td><td style=\"text-align: right;\">  0.127591 </td><td style=\"text-align: right;\"> -0.0342259 </td><td style=\"text-align: right;\">  0.00469322</td><td style=\"text-align: right;\"> -0.11993  </td><td style=\"text-align: right;\"> -0.116237 </td><td style=\"text-align: right;\"> -0.0889344</td><td style=\"text-align: right;\"> -0.0591175</td><td style=\"text-align: right;\"> -0.00224233</td><td style=\"text-align: right;\">  0.133573 </td><td style=\"text-align: right;\">  0.0120003 </td><td style=\"text-align: right;\">  0.104641 </td><td style=\"text-align: right;\"> -0.111396 </td><td style=\"text-align: right;\">  0.0374765</td><td style=\"text-align: right;\"> -0.104957 </td><td style=\"text-align: right;\">  0.0178515</td><td style=\"text-align: right;\"> -0.103767  </td><td style=\"text-align: right;\">  0.144376</td><td style=\"text-align: right;\"> -0.202572</td><td style=\"text-align: right;\"> -0.1418    </td><td style=\"text-align: right;\"> -0.0345678</td><td style=\"text-align: right;\">  0.0315704 </td><td style=\"text-align: right;\"> -0.0172981  </td><td style=\"text-align: right;\"> -0.152851 </td><td style=\"text-align: right;\">  0.0310397</td><td style=\"text-align: right;\"> -0.0195062 </td><td style=\"text-align: right;\"> -0.157437 </td><td style=\"text-align: right;\">  0.158381 </td><td style=\"text-align: right;\"> -0.0625155</td><td style=\"text-align: right;\"> -0.0418313</td><td style=\"text-align: right;\">  0.130214 </td><td style=\"text-align: right;\"> -0.000953665</td><td style=\"text-align: right;\"> -0.0662533</td><td style=\"text-align: right;\"> -0.0825443 </td><td style=\"text-align: right;\">  0.0860177 </td><td style=\"text-align: right;\">  0.0987457</td><td style=\"text-align: right;\"> -0.0555612</td><td style=\"text-align: right;\"> -0.0114201 </td><td style=\"text-align: right;\">  0.0225165</td><td style=\"text-align: right;\">  0.103672  </td><td style=\"text-align: right;\"> -0.0308064</td><td style=\"text-align: right;\">  0.260743</td><td style=\"text-align: right;\"> -0.119669 </td><td style=\"text-align: right;\"> -0.0277398</td><td style=\"text-align: right;\"> -0.0368797</td><td style=\"text-align: right;\"> -0.0849018</td><td style=\"text-align: right;\"> -0.135782  </td></tr>\n",
       "<tr><td style=\"text-align: right;\">  0.0187285</td><td style=\"text-align: right;\"> -0.128758</td><td style=\"text-align: right;\">  0.089174  </td><td style=\"text-align: right;\"> -0.0369315</td><td style=\"text-align: right;\">  0.0687207 </td><td style=\"text-align: right;\"> -0.0332934</td><td style=\"text-align: right;\">  0.0689472</td><td style=\"text-align: right;\">  0.214108 </td><td style=\"text-align: right;\">  0.0760403</td><td style=\"text-align: right;\"> -0.0446776  </td><td style=\"text-align: right;\">  0.107388 </td><td style=\"text-align: right;\"> -0.0828089</td><td style=\"text-align: right;\"> -0.107181   </td><td style=\"text-align: right;\"> -0.0647827</td><td style=\"text-align: right;\"> -0.134866</td><td style=\"text-align: right;\"> -0.222339</td><td style=\"text-align: right;\">  0.0896199</td><td style=\"text-align: right;\"> -0.233782</td><td style=\"text-align: right;\"> -0.0655148 </td><td style=\"text-align: right;\">  0.113465 </td><td style=\"text-align: right;\">  0.121693  </td><td style=\"text-align: right;\">  0.0439956 </td><td style=\"text-align: right;\">  0.150711</td><td style=\"text-align: right;\">  0.0455455</td><td style=\"text-align: right;\"> -0.00477762</td><td style=\"text-align: right;\"> -0.171898</td><td style=\"text-align: right;\">  0.0940127</td><td style=\"text-align: right;\"> -0.160481 </td><td style=\"text-align: right;\"> -0.108694 </td><td style=\"text-align: right;\">  0.00992607</td><td style=\"text-align: right;\"> -0.200439 </td><td style=\"text-align: right;\"> -0.0890603</td><td style=\"text-align: right;\">  0.0640958</td><td style=\"text-align: right;\">  0.000939528</td><td style=\"text-align: right;\"> -0.197076 </td><td style=\"text-align: right;\"> -0.0912163</td><td style=\"text-align: right;\">  0.166629</td><td style=\"text-align: right;\"> -0.00885543</td><td style=\"text-align: right;\"> -0.0296323  </td><td style=\"text-align: right;\">  0.0658487 </td><td style=\"text-align: right;\"> -0.0563855</td><td style=\"text-align: right;\"> -0.107414 </td><td style=\"text-align: right;\">  0.0112661</td><td style=\"text-align: right;\"> -0.0456536 </td><td style=\"text-align: right;\"> -0.0809395</td><td style=\"text-align: right;\">  0.190582</td><td style=\"text-align: right;\"> -0.092457  </td><td style=\"text-align: right;\">  0.012001  </td><td style=\"text-align: right;\">  0.00440358</td><td style=\"text-align: right;\"> -0.0799094</td><td style=\"text-align: right;\">  0.101106 </td><td style=\"text-align: right;\">  0.0251886 </td><td style=\"text-align: right;\"> -0.0196713</td><td style=\"text-align: right;\">  0.0910235 </td><td style=\"text-align: right;\">  0.126511 </td><td style=\"text-align: right;\">  0.00795721</td><td style=\"text-align: right;\"> -0.0548998 </td><td style=\"text-align: right;\"> -0.115243 </td><td style=\"text-align: right;\"> -0.154982 </td><td style=\"text-align: right;\"> -0.01696  </td><td style=\"text-align: right;\"> -0.100231 </td><td style=\"text-align: right;\"> -0.108517  </td><td style=\"text-align: right;\">  0.118483 </td><td style=\"text-align: right;\">  0.101668  </td><td style=\"text-align: right;\">  0.0348531</td><td style=\"text-align: right;\"> -0.0475196</td><td style=\"text-align: right;\">  0.0714486</td><td style=\"text-align: right;\"> -0.0895318</td><td style=\"text-align: right;\">  0.0454557</td><td style=\"text-align: right;\"> -0.0332488 </td><td style=\"text-align: right;\">  0.202175</td><td style=\"text-align: right;\"> -0.1947  </td><td style=\"text-align: right;\"> -0.00478813</td><td style=\"text-align: right;\"> -0.0671563</td><td style=\"text-align: right;\"> -0.0409488 </td><td style=\"text-align: right;\">  0.0478292  </td><td style=\"text-align: right;\"> -0.119521 </td><td style=\"text-align: right;\">  0.117092 </td><td style=\"text-align: right;\">  0.0472116 </td><td style=\"text-align: right;\"> -0.0981051</td><td style=\"text-align: right;\">  0.0746991</td><td style=\"text-align: right;\"> -0.164025 </td><td style=\"text-align: right;\">  0.0334555</td><td style=\"text-align: right;\">  0.0884304</td><td style=\"text-align: right;\"> -0.0219931  </td><td style=\"text-align: right;\"> -0.0635871</td><td style=\"text-align: right;\"> -0.0687513 </td><td style=\"text-align: right;\">  0.105963  </td><td style=\"text-align: right;\">  0.220385 </td><td style=\"text-align: right;\"> -0.0482946</td><td style=\"text-align: right;\"> -0.0126395 </td><td style=\"text-align: right;\"> -0.0412836</td><td style=\"text-align: right;\">  0.0958496 </td><td style=\"text-align: right;\">  0.0301074</td><td style=\"text-align: right;\">  0.180766</td><td style=\"text-align: right;\"> -0.0942294</td><td style=\"text-align: right;\">  0.0275006</td><td style=\"text-align: right;\"> -0.0300657</td><td style=\"text-align: right;\"> -0.0296314</td><td style=\"text-align: right;\"> -0.0785192 </td></tr>\n",
       "<tr><td style=\"text-align: right;\">  0.0126335</td><td style=\"text-align: right;\"> -0.160219</td><td style=\"text-align: right;\">  0.0952368 </td><td style=\"text-align: right;\"> -0.0961898</td><td style=\"text-align: right;\">  0.107264  </td><td style=\"text-align: right;\"> -0.0297865</td><td style=\"text-align: right;\">  0.0855149</td><td style=\"text-align: right;\">  0.182644 </td><td style=\"text-align: right;\">  0.0163934</td><td style=\"text-align: right;\"> -0.0325833  </td><td style=\"text-align: right;\">  0.0566745</td><td style=\"text-align: right;\"> -0.0683656</td><td style=\"text-align: right;\">  0.0435054  </td><td style=\"text-align: right;\"> -0.027499 </td><td style=\"text-align: right;\"> -0.097539</td><td style=\"text-align: right;\"> -0.21448 </td><td style=\"text-align: right;\">  0.144992 </td><td style=\"text-align: right;\"> -0.202554</td><td style=\"text-align: right;\"> -0.0278865 </td><td style=\"text-align: right;\">  0.0312398</td><td style=\"text-align: right;\">  0.0464974 </td><td style=\"text-align: right;\">  0.0730265 </td><td style=\"text-align: right;\">  0.243543</td><td style=\"text-align: right;\"> -0.015997 </td><td style=\"text-align: right;\">  0.00177996</td><td style=\"text-align: right;\"> -0.171103</td><td style=\"text-align: right;\">  0.154992 </td><td style=\"text-align: right;\"> -0.142354 </td><td style=\"text-align: right;\"> -0.0678874</td><td style=\"text-align: right;\">  0.0321233 </td><td style=\"text-align: right;\"> -0.0986812</td><td style=\"text-align: right;\"> -0.101407 </td><td style=\"text-align: right;\">  0.0393259</td><td style=\"text-align: right;\">  0.0128681  </td><td style=\"text-align: right;\"> -0.233336 </td><td style=\"text-align: right;\"> -0.053481 </td><td style=\"text-align: right;\">  0.197204</td><td style=\"text-align: right;\"> -0.0242849 </td><td style=\"text-align: right;\"> -0.0149403  </td><td style=\"text-align: right;\"> -0.00564742</td><td style=\"text-align: right;\">  0.030092 </td><td style=\"text-align: right;\"> -0.127852 </td><td style=\"text-align: right;\">  0.0348383</td><td style=\"text-align: right;\"> -0.00570928</td><td style=\"text-align: right;\"> -0.0390752</td><td style=\"text-align: right;\">  0.149624</td><td style=\"text-align: right;\"> -0.168266  </td><td style=\"text-align: right;\">  0.0503888 </td><td style=\"text-align: right;\">  0.0964476 </td><td style=\"text-align: right;\">  0.0243778</td><td style=\"text-align: right;\">  0.104373 </td><td style=\"text-align: right;\">  0.0979534 </td><td style=\"text-align: right;\"> -0.124552 </td><td style=\"text-align: right;\">  0.134163  </td><td style=\"text-align: right;\">  0.0882389</td><td style=\"text-align: right;\"> -0.0305242 </td><td style=\"text-align: right;\"> -0.0221047 </td><td style=\"text-align: right;\"> -0.0935073</td><td style=\"text-align: right;\"> -0.101729 </td><td style=\"text-align: right;\"> -0.0247384</td><td style=\"text-align: right;\"> -0.131    </td><td style=\"text-align: right;\"> -0.0207895 </td><td style=\"text-align: right;\">  0.069724 </td><td style=\"text-align: right;\">  0.00423524</td><td style=\"text-align: right;\">  0.0740321</td><td style=\"text-align: right;\"> -0.0545793</td><td style=\"text-align: right;\"> -0.0380522</td><td style=\"text-align: right;\"> -0.201469 </td><td style=\"text-align: right;\">  0.0860274</td><td style=\"text-align: right;\">  0.0370402 </td><td style=\"text-align: right;\">  0.221839</td><td style=\"text-align: right;\"> -0.167744</td><td style=\"text-align: right;\"> -0.0585817 </td><td style=\"text-align: right;\"> -0.104039 </td><td style=\"text-align: right;\">  0.023122  </td><td style=\"text-align: right;\"> -0.0147557  </td><td style=\"text-align: right;\"> -0.136432 </td><td style=\"text-align: right;\">  0.0986518</td><td style=\"text-align: right;\">  0.149524  </td><td style=\"text-align: right;\"> -0.174628 </td><td style=\"text-align: right;\">  0.0681652</td><td style=\"text-align: right;\"> -0.045386 </td><td style=\"text-align: right;\"> -0.0224522</td><td style=\"text-align: right;\"> -0.0428673</td><td style=\"text-align: right;\"> -0.092845   </td><td style=\"text-align: right;\"> -0.0411921</td><td style=\"text-align: right;\">  0.00937779</td><td style=\"text-align: right;\">  0.250138  </td><td style=\"text-align: right;\">  0.23183  </td><td style=\"text-align: right;\"> -0.0215491</td><td style=\"text-align: right;\"> -0.0402557 </td><td style=\"text-align: right;\"> -0.11038  </td><td style=\"text-align: right;\"> -0.00620997</td><td style=\"text-align: right;\">  0.0332997</td><td style=\"text-align: right;\">  0.211534</td><td style=\"text-align: right;\"> -0.206991 </td><td style=\"text-align: right;\">  0.109225 </td><td style=\"text-align: right;\"> -0.0497021</td><td style=\"text-align: right;\"> -0.0850803</td><td style=\"text-align: right;\"> -0.0996415 </td></tr>\n",
       "<tr><td style=\"text-align: right;\">nan        </td><td style=\"text-align: right;\">nan       </td><td style=\"text-align: right;\">nan         </td><td style=\"text-align: right;\">nan        </td><td style=\"text-align: right;\">nan         </td><td style=\"text-align: right;\">nan        </td><td style=\"text-align: right;\">nan        </td><td style=\"text-align: right;\">nan        </td><td style=\"text-align: right;\">nan        </td><td style=\"text-align: right;\">nan          </td><td style=\"text-align: right;\">nan        </td><td style=\"text-align: right;\">nan        </td><td style=\"text-align: right;\">nan          </td><td style=\"text-align: right;\">nan        </td><td style=\"text-align: right;\">nan       </td><td style=\"text-align: right;\">nan       </td><td style=\"text-align: right;\">nan        </td><td style=\"text-align: right;\">nan       </td><td style=\"text-align: right;\">nan         </td><td style=\"text-align: right;\">nan        </td><td style=\"text-align: right;\">nan         </td><td style=\"text-align: right;\">nan         </td><td style=\"text-align: right;\">nan       </td><td style=\"text-align: right;\">nan        </td><td style=\"text-align: right;\">nan         </td><td style=\"text-align: right;\">nan       </td><td style=\"text-align: right;\">nan        </td><td style=\"text-align: right;\">nan        </td><td style=\"text-align: right;\">nan        </td><td style=\"text-align: right;\">nan         </td><td style=\"text-align: right;\">nan        </td><td style=\"text-align: right;\">nan        </td><td style=\"text-align: right;\">nan        </td><td style=\"text-align: right;\">nan          </td><td style=\"text-align: right;\">nan        </td><td style=\"text-align: right;\">nan        </td><td style=\"text-align: right;\">nan       </td><td style=\"text-align: right;\">nan         </td><td style=\"text-align: right;\">nan          </td><td style=\"text-align: right;\">nan         </td><td style=\"text-align: right;\">nan        </td><td style=\"text-align: right;\">nan        </td><td style=\"text-align: right;\">nan        </td><td style=\"text-align: right;\">nan         </td><td style=\"text-align: right;\">nan        </td><td style=\"text-align: right;\">nan       </td><td style=\"text-align: right;\">nan         </td><td style=\"text-align: right;\">nan         </td><td style=\"text-align: right;\">nan         </td><td style=\"text-align: right;\">nan        </td><td style=\"text-align: right;\">nan        </td><td style=\"text-align: right;\">nan         </td><td style=\"text-align: right;\">nan        </td><td style=\"text-align: right;\">nan         </td><td style=\"text-align: right;\">nan        </td><td style=\"text-align: right;\">nan         </td><td style=\"text-align: right;\">nan         </td><td style=\"text-align: right;\">nan        </td><td style=\"text-align: right;\">nan        </td><td style=\"text-align: right;\">nan        </td><td style=\"text-align: right;\">nan        </td><td style=\"text-align: right;\">nan         </td><td style=\"text-align: right;\">nan        </td><td style=\"text-align: right;\">nan         </td><td style=\"text-align: right;\">nan        </td><td style=\"text-align: right;\">nan        </td><td style=\"text-align: right;\">nan        </td><td style=\"text-align: right;\">nan        </td><td style=\"text-align: right;\">nan        </td><td style=\"text-align: right;\">nan         </td><td style=\"text-align: right;\">nan       </td><td style=\"text-align: right;\">nan       </td><td style=\"text-align: right;\">nan         </td><td style=\"text-align: right;\">nan        </td><td style=\"text-align: right;\">nan         </td><td style=\"text-align: right;\">nan          </td><td style=\"text-align: right;\">nan        </td><td style=\"text-align: right;\">nan        </td><td style=\"text-align: right;\">nan         </td><td style=\"text-align: right;\">nan        </td><td style=\"text-align: right;\">nan        </td><td style=\"text-align: right;\">nan        </td><td style=\"text-align: right;\">nan        </td><td style=\"text-align: right;\">nan        </td><td style=\"text-align: right;\">nan          </td><td style=\"text-align: right;\">nan        </td><td style=\"text-align: right;\">nan         </td><td style=\"text-align: right;\">nan         </td><td style=\"text-align: right;\">nan        </td><td style=\"text-align: right;\">nan        </td><td style=\"text-align: right;\">nan         </td><td style=\"text-align: right;\">nan        </td><td style=\"text-align: right;\">nan         </td><td style=\"text-align: right;\">nan        </td><td style=\"text-align: right;\">nan       </td><td style=\"text-align: right;\">nan        </td><td style=\"text-align: right;\">nan        </td><td style=\"text-align: right;\">nan        </td><td style=\"text-align: right;\">nan        </td><td style=\"text-align: right;\">nan         </td></tr>\n",
       "</tbody>\n",
       "</table>"
      ]
     },
     "metadata": {},
     "output_type": "display_data"
    },
    {
     "data": {
      "text/plain": []
     },
     "execution_count": 122,
     "metadata": {},
     "output_type": "execute_result"
    }
   ],
   "source": [
    "desc_vecs.head()"
   ]
  },
  {
   "cell_type": "code",
   "execution_count": 123,
   "metadata": {},
   "outputs": [],
   "source": [
    "# Add aggregated word embeddings \n",
    "loans = loans.cbind(desc_vecs)"
   ]
  },
  {
   "cell_type": "markdown",
   "metadata": {},
   "source": [
    "# Step 5 (of 8). Model training\n",
    "\n",
    "Now that we have cleaned our data and added new columns, we will train a model to predict bad loans."
   ]
  },
  {
   "cell_type": "code",
   "execution_count": 124,
   "metadata": {},
   "outputs": [],
   "source": [
    "train, test = loans.split_frame(seed = 1234, ratios = [0.75], destination_frames=[\"train.hex\", \"test.hex\"])"
   ]
  },
  {
   "cell_type": "code",
   "execution_count": 125,
   "metadata": {},
   "outputs": [],
   "source": [
    "from h2o.estimators import H2OGradientBoostingEstimator\n",
    "\n",
    "cols_to_remove = [\"initial_list_status\",\n",
    "                  \"out_prncp\",\n",
    "                  \"out_prncp_inv\",\n",
    "                  \"total_pymnt\",\n",
    "                  \"total_pymnt_inv\",\n",
    "                  \"total_rec_prncp\", \n",
    "                  \"total_rec_int\",\n",
    "                  \"total_rec_late_fee\",\n",
    "                  \"recoveries\",\n",
    "                  \"collection_recovery_fee\",\n",
    "                  \"last_pymnt_d\", \n",
    "                  \"last_pymnt_amnt\",\n",
    "                  \"next_pymnt_d\",\n",
    "                  \"last_credit_pull_d\",\n",
    "                  \"collections_12_mths_ex_med\" , \n",
    "                  \"mths_since_last_major_derog\",\n",
    "                  \"policy_code\",\n",
    "                  \"loan_status\",\n",
    "                  \"funded_amnt\",\n",
    "                  \"funded_amnt_inv\",\n",
    "                  \"mths_since_last_delinq\",\n",
    "                  \"mths_since_last_record\",\n",
    "                  \"id\",\n",
    "                  \"member_id\",\n",
    "                  \"desc\",\n",
    "                  \"zip_code\"]\n",
    "\n",
    "predictors = list(set(loans.col_names) - set(cols_to_remove))"
   ]
  },
  {
   "cell_type": "code",
   "execution_count": 126,
   "metadata": {},
   "outputs": [
    {
     "data": {
      "text/plain": [
       "['C25',\n",
       " 'C11',\n",
       " 'pymnt_plan',\n",
       " 'C78',\n",
       " 'C73',\n",
       " 'dti',\n",
       " 'C36',\n",
       " 'C80',\n",
       " 'C1',\n",
       " 'inq_last_6mths',\n",
       " 'C42',\n",
       " 'loan_amnt',\n",
       " 'title',\n",
       " 'C60',\n",
       " 'pub_rec',\n",
       " 'C10',\n",
       " 'annual_inc',\n",
       " 'grade',\n",
       " 'issue_d',\n",
       " 'revol_bal',\n",
       " 'C34',\n",
       " 'open_acc',\n",
       " 'credit_length',\n",
       " 'C52',\n",
       " 'C71',\n",
       " 'C63',\n",
       " 'C95',\n",
       " 'installment',\n",
       " 'C3',\n",
       " 'C58',\n",
       " 'C5',\n",
       " 'term',\n",
       " 'C40',\n",
       " 'C91',\n",
       " 'url',\n",
       " 'total_acc',\n",
       " 'C70',\n",
       " 'C100',\n",
       " 'C59',\n",
       " 'C32',\n",
       " 'C72',\n",
       " 'int_rate',\n",
       " 'C41',\n",
       " 'C83',\n",
       " 'C22',\n",
       " 'C66',\n",
       " 'C33',\n",
       " 'C55',\n",
       " 'C12',\n",
       " 'C2',\n",
       " 'C87',\n",
       " 'C21',\n",
       " 'C68',\n",
       " 'sub_grade',\n",
       " 'earliest_cr_line',\n",
       " 'revol_util',\n",
       " 'C86',\n",
       " 'C49',\n",
       " 'emp_title',\n",
       " 'C38',\n",
       " 'C69',\n",
       " 'C9',\n",
       " 'C37',\n",
       " 'C90',\n",
       " 'C57',\n",
       " 'C76',\n",
       " 'C16',\n",
       " 'C93',\n",
       " 'C31',\n",
       " 'C74',\n",
       " 'C44',\n",
       " 'C97',\n",
       " 'C8',\n",
       " 'C46',\n",
       " 'C20',\n",
       " 'C77',\n",
       " 'delinq_2yrs',\n",
       " 'C75',\n",
       " 'C85',\n",
       " 'C4',\n",
       " 'C98',\n",
       " 'C88',\n",
       " 'C14',\n",
       " 'C6',\n",
       " 'C50',\n",
       " 'C84',\n",
       " 'C26',\n",
       " 'C28',\n",
       " 'C94',\n",
       " 'C45',\n",
       " 'emp_length',\n",
       " 'C19',\n",
       " 'C82',\n",
       " 'C15',\n",
       " 'C27',\n",
       " 'C39',\n",
       " 'C56',\n",
       " 'C96',\n",
       " 'C48',\n",
       " 'C29',\n",
       " 'C24',\n",
       " 'C13',\n",
       " 'C67',\n",
       " 'verification_status',\n",
       " 'C47',\n",
       " 'C79',\n",
       " 'bad_loan',\n",
       " 'C53',\n",
       " 'C7',\n",
       " 'C61',\n",
       " 'issue_d_month',\n",
       " 'C62',\n",
       " 'C65',\n",
       " 'C92',\n",
       " 'addr_state',\n",
       " 'C89',\n",
       " 'C23',\n",
       " 'C43',\n",
       " 'C81',\n",
       " 'issue_d_year',\n",
       " 'C35',\n",
       " 'home_ownership',\n",
       " 'C54',\n",
       " 'C17',\n",
       " 'C30',\n",
       " 'C18',\n",
       " 'C64',\n",
       " 'purpose',\n",
       " 'C51',\n",
       " 'C99']"
      ]
     },
     "execution_count": 126,
     "metadata": {},
     "output_type": "execute_result"
    }
   ],
   "source": [
    "predictors"
   ]
  },
  {
   "cell_type": "code",
   "execution_count": 127,
   "metadata": {},
   "outputs": [
    {
     "name": "stdout",
     "output_type": "stream",
     "text": [
      "gbm Model Build progress: |███████████████████████████████████████████████| 100%\n"
     ]
    }
   ],
   "source": [
    "gbm_model = H2OGradientBoostingEstimator(stopping_metric = \"logloss\",\n",
    "                                         stopping_rounds = 5, # early stopping\n",
    "                                         score_tree_interval = 5,\n",
    "                                         ntrees = 500,\n",
    "                                         model_id = \"gbm.hex\")\n",
    "gbm_model.train(x = predictors,\n",
    "                y = \"bad_loan\",\n",
    "                training_frame = train,\n",
    "                validation_frame = test)"
   ]
  },
  {
   "cell_type": "markdown",
   "metadata": {},
   "source": [
    "The ROC curve of the training and testing data are shown below.  The area under the ROC curve is much higher for the training data than the testing data indicating that the model may be beginning to memorize the training data."
   ]
  },
  {
   "cell_type": "code",
   "execution_count": 128,
   "metadata": {},
   "outputs": [
    {
     "name": "stdout",
     "output_type": "stream",
     "text": [
      "Training Data\n",
      "Testing Data\n",
      "\n",
      "ModelMetricsBinomial: gbm\n",
      "** Reported on validation data. **\n",
      "\n",
      "MSE: 0.1136424981640575\n",
      "RMSE: 0.3371090300838254\n",
      "LogLoss: 0.37228813959048623\n",
      "Mean Per-Class Error: 0.2666032658181745\n",
      "AUC: 0.8131550015850213\n",
      "Gini: 0.6263100031700426\n",
      "Confusion Matrix (Act/Pred) for max f1 @ threshold = 0.2683759655133148: \n"
     ]
    },
    {
     "data": {
      "text/html": [
       "<div style=\"overflow:auto\"><table style=\"width:50%\"><tr><td><b></b></td>\n",
       "<td><b>0</b></td>\n",
       "<td><b>1</b></td>\n",
       "<td><b>Error</b></td>\n",
       "<td><b>Rate</b></td></tr>\n",
       "<tr><td>0</td>\n",
       "<td>6730.0</td>\n",
       "<td>935.0</td>\n",
       "<td>0.122</td>\n",
       "<td> (935.0/7665.0)</td></tr>\n",
       "<tr><td>1</td>\n",
       "<td>873.0</td>\n",
       "<td>1158.0</td>\n",
       "<td>0.4298</td>\n",
       "<td> (873.0/2031.0)</td></tr>\n",
       "<tr><td>Total</td>\n",
       "<td>7603.0</td>\n",
       "<td>2093.0</td>\n",
       "<td>0.1865</td>\n",
       "<td> (1808.0/9696.0)</td></tr></table></div>"
      ],
      "text/plain": [
       "       0     1     Error    Rate\n",
       "-----  ----  ----  -------  ---------------\n",
       "0      6730  935   0.122    (935.0/7665.0)\n",
       "1      873   1158  0.4298   (873.0/2031.0)\n",
       "Total  7603  2093  0.1865   (1808.0/9696.0)"
      ]
     },
     "metadata": {},
     "output_type": "display_data"
    },
    {
     "name": "stdout",
     "output_type": "stream",
     "text": [
      "Maximum Metrics: Maximum metrics at their respective thresholds\n",
      "\n"
     ]
    },
    {
     "data": {
      "text/html": [
       "<div style=\"overflow:auto\"><table style=\"width:50%\"><tr><td><b>metric</b></td>\n",
       "<td><b>threshold</b></td>\n",
       "<td><b>value</b></td>\n",
       "<td><b>idx</b></td></tr>\n",
       "<tr><td>max f1</td>\n",
       "<td>0.2683760</td>\n",
       "<td>0.5615907</td>\n",
       "<td>207.0</td></tr>\n",
       "<tr><td>max f2</td>\n",
       "<td>0.1133028</td>\n",
       "<td>0.6469274</td>\n",
       "<td>313.0</td></tr>\n",
       "<tr><td>max f0point5</td>\n",
       "<td>0.5291741</td>\n",
       "<td>0.6739090</td>\n",
       "<td>114.0</td></tr>\n",
       "<tr><td>max accuracy</td>\n",
       "<td>0.5077639</td>\n",
       "<td>0.8540635</td>\n",
       "<td>120.0</td></tr>\n",
       "<tr><td>max precision</td>\n",
       "<td>0.9959165</td>\n",
       "<td>1.0</td>\n",
       "<td>0.0</td></tr>\n",
       "<tr><td>max recall</td>\n",
       "<td>0.0208756</td>\n",
       "<td>1.0</td>\n",
       "<td>397.0</td></tr>\n",
       "<tr><td>max specificity</td>\n",
       "<td>0.9959165</td>\n",
       "<td>1.0</td>\n",
       "<td>0.0</td></tr>\n",
       "<tr><td>max absolute_mcc</td>\n",
       "<td>0.5033637</td>\n",
       "<td>0.4973999</td>\n",
       "<td>121.0</td></tr>\n",
       "<tr><td>max min_per_class_accuracy</td>\n",
       "<td>0.1679737</td>\n",
       "<td>0.7257509</td>\n",
       "<td>267.0</td></tr>\n",
       "<tr><td>max mean_per_class_accuracy</td>\n",
       "<td>0.2102446</td>\n",
       "<td>0.7333967</td>\n",
       "<td>238.0</td></tr></table></div>"
      ],
      "text/plain": [
       "metric                       threshold    value     idx\n",
       "---------------------------  -----------  --------  -----\n",
       "max f1                       0.268376     0.561591  207\n",
       "max f2                       0.113303     0.646927  313\n",
       "max f0point5                 0.529174     0.673909  114\n",
       "max accuracy                 0.507764     0.854064  120\n",
       "max precision                0.995917     1         0\n",
       "max recall                   0.0208756    1         397\n",
       "max specificity              0.995917     1         0\n",
       "max absolute_mcc             0.503364     0.4974    121\n",
       "max min_per_class_accuracy   0.167974     0.725751  267\n",
       "max mean_per_class_accuracy  0.210245     0.733397  238"
      ]
     },
     "metadata": {},
     "output_type": "display_data"
    },
    {
     "name": "stdout",
     "output_type": "stream",
     "text": [
      "Gains/Lift Table: Avg response rate: 20.95 %, avg score: 20.78 %\n",
      "\n"
     ]
    },
    {
     "data": {
      "text/html": [
       "<div style=\"overflow:auto\"><table style=\"width:50%\"><tr><td><b></b></td>\n",
       "<td><b>group</b></td>\n",
       "<td><b>cumulative_data_fraction</b></td>\n",
       "<td><b>lower_threshold</b></td>\n",
       "<td><b>lift</b></td>\n",
       "<td><b>cumulative_lift</b></td>\n",
       "<td><b>response_rate</b></td>\n",
       "<td><b>score</b></td>\n",
       "<td><b>cumulative_response_rate</b></td>\n",
       "<td><b>cumulative_score</b></td>\n",
       "<td><b>capture_rate</b></td>\n",
       "<td><b>cumulative_capture_rate</b></td>\n",
       "<td><b>gain</b></td>\n",
       "<td><b>cumulative_gain</b></td></tr>\n",
       "<tr><td></td>\n",
       "<td>1</td>\n",
       "<td>0.0100041</td>\n",
       "<td>0.9750318</td>\n",
       "<td>4.7740030</td>\n",
       "<td>4.7740030</td>\n",
       "<td>1.0</td>\n",
       "<td>0.9833094</td>\n",
       "<td>1.0</td>\n",
       "<td>0.9833094</td>\n",
       "<td>0.0477597</td>\n",
       "<td>0.0477597</td>\n",
       "<td>377.4002954</td>\n",
       "<td>377.4002954</td></tr>\n",
       "<tr><td></td>\n",
       "<td>2</td>\n",
       "<td>0.0200083</td>\n",
       "<td>0.9643698</td>\n",
       "<td>4.7740030</td>\n",
       "<td>4.7740030</td>\n",
       "<td>1.0</td>\n",
       "<td>0.9697594</td>\n",
       "<td>1.0</td>\n",
       "<td>0.9765344</td>\n",
       "<td>0.0477597</td>\n",
       "<td>0.0955194</td>\n",
       "<td>377.4002954</td>\n",
       "<td>377.4002954</td></tr>\n",
       "<tr><td></td>\n",
       "<td>3</td>\n",
       "<td>0.0300124</td>\n",
       "<td>0.9509338</td>\n",
       "<td>4.7247864</td>\n",
       "<td>4.7575974</td>\n",
       "<td>0.9896907</td>\n",
       "<td>0.9580675</td>\n",
       "<td>0.9965636</td>\n",
       "<td>0.9703788</td>\n",
       "<td>0.0472674</td>\n",
       "<td>0.1427868</td>\n",
       "<td>372.4786429</td>\n",
       "<td>375.7597446</td></tr>\n",
       "<tr><td></td>\n",
       "<td>4</td>\n",
       "<td>0.0400165</td>\n",
       "<td>0.9265712</td>\n",
       "<td>4.4294873</td>\n",
       "<td>4.6755699</td>\n",
       "<td>0.9278351</td>\n",
       "<td>0.9411332</td>\n",
       "<td>0.9793814</td>\n",
       "<td>0.9630674</td>\n",
       "<td>0.0443131</td>\n",
       "<td>0.1871000</td>\n",
       "<td>342.9487277</td>\n",
       "<td>367.5569904</td></tr>\n",
       "<tr><td></td>\n",
       "<td>5</td>\n",
       "<td>0.0500206</td>\n",
       "<td>0.8830283</td>\n",
       "<td>4.4294873</td>\n",
       "<td>4.6263534</td>\n",
       "<td>0.9278351</td>\n",
       "<td>0.9087290</td>\n",
       "<td>0.9690722</td>\n",
       "<td>0.9521997</td>\n",
       "<td>0.0443131</td>\n",
       "<td>0.2314131</td>\n",
       "<td>342.9487277</td>\n",
       "<td>362.6353378</td></tr>\n",
       "<tr><td></td>\n",
       "<td>6</td>\n",
       "<td>0.1000413</td>\n",
       "<td>0.4725776</td>\n",
       "<td>3.1400143</td>\n",
       "<td>3.8831838</td>\n",
       "<td>0.6577320</td>\n",
       "<td>0.6448125</td>\n",
       "<td>0.8134021</td>\n",
       "<td>0.7985061</td>\n",
       "<td>0.1570655</td>\n",
       "<td>0.3884786</td>\n",
       "<td>214.0014314</td>\n",
       "<td>288.3183846</td></tr>\n",
       "<tr><td></td>\n",
       "<td>7</td>\n",
       "<td>0.1500619</td>\n",
       "<td>0.3514653</td>\n",
       "<td>1.6438319</td>\n",
       "<td>3.1367332</td>\n",
       "<td>0.3443299</td>\n",
       "<td>0.4047331</td>\n",
       "<td>0.6570447</td>\n",
       "<td>0.6672484</td>\n",
       "<td>0.0822255</td>\n",
       "<td>0.4707041</td>\n",
       "<td>64.3831945</td>\n",
       "<td>213.6733213</td></tr>\n",
       "<tr><td></td>\n",
       "<td>8</td>\n",
       "<td>0.2000825</td>\n",
       "<td>0.2840819</td>\n",
       "<td>1.4568091</td>\n",
       "<td>2.7167522</td>\n",
       "<td>0.3051546</td>\n",
       "<td>0.3155105</td>\n",
       "<td>0.5690722</td>\n",
       "<td>0.5793140</td>\n",
       "<td>0.0728705</td>\n",
       "<td>0.5435746</td>\n",
       "<td>45.6809149</td>\n",
       "<td>171.6752197</td></tr>\n",
       "<tr><td></td>\n",
       "<td>9</td>\n",
       "<td>0.3000206</td>\n",
       "<td>0.2021509</td>\n",
       "<td>1.2316829</td>\n",
       "<td>2.2220694</td>\n",
       "<td>0.2579979</td>\n",
       "<td>0.2383958</td>\n",
       "<td>0.4654520</td>\n",
       "<td>0.4657527</td>\n",
       "<td>0.1230921</td>\n",
       "<td>0.6666667</td>\n",
       "<td>23.1682909</td>\n",
       "<td>122.2069440</td></tr>\n",
       "<tr><td></td>\n",
       "<td>10</td>\n",
       "<td>0.4000619</td>\n",
       "<td>0.1543394</td>\n",
       "<td>0.8563675</td>\n",
       "<td>1.8805559</td>\n",
       "<td>0.1793814</td>\n",
       "<td>0.1762389</td>\n",
       "<td>0.3939160</td>\n",
       "<td>0.3933556</td>\n",
       "<td>0.0856721</td>\n",
       "<td>0.7523387</td>\n",
       "<td>-14.3632460</td>\n",
       "<td>88.0555946</td></tr>\n",
       "<tr><td></td>\n",
       "<td>11</td>\n",
       "<td>0.5</td>\n",
       "<td>0.1242120</td>\n",
       "<td>0.7045226</td>\n",
       "<td>1.6454948</td>\n",
       "<td>0.1475748</td>\n",
       "<td>0.1384023</td>\n",
       "<td>0.3446782</td>\n",
       "<td>0.3423965</td>\n",
       "<td>0.0704087</td>\n",
       "<td>0.8227474</td>\n",
       "<td>-29.5477376</td>\n",
       "<td>64.5494830</td></tr>\n",
       "<tr><td></td>\n",
       "<td>12</td>\n",
       "<td>0.6000413</td>\n",
       "<td>0.1007172</td>\n",
       "<td>0.6004416</td>\n",
       "<td>1.4712594</td>\n",
       "<td>0.1257732</td>\n",
       "<td>0.1123956</td>\n",
       "<td>0.3081815</td>\n",
       "<td>0.3040498</td>\n",
       "<td>0.0600689</td>\n",
       "<td>0.8828163</td>\n",
       "<td>-39.9558391</td>\n",
       "<td>47.1259419</td></tr>\n",
       "<tr><td></td>\n",
       "<td>13</td>\n",
       "<td>0.6999794</td>\n",
       "<td>0.0816466</td>\n",
       "<td>0.4729662</td>\n",
       "<td>1.3287302</td>\n",
       "<td>0.0990712</td>\n",
       "<td>0.0913128</td>\n",
       "<td>0.2783262</td>\n",
       "<td>0.2736767</td>\n",
       "<td>0.0472674</td>\n",
       "<td>0.9300837</td>\n",
       "<td>-52.7033763</td>\n",
       "<td>32.8730158</td></tr>\n",
       "<tr><td></td>\n",
       "<td>14</td>\n",
       "<td>0.8000206</td>\n",
       "<td>0.0640121</td>\n",
       "<td>0.3346724</td>\n",
       "<td>1.2044249</td>\n",
       "<td>0.0701031</td>\n",
       "<td>0.0723495</td>\n",
       "<td>0.2522883</td>\n",
       "<td>0.2485011</td>\n",
       "<td>0.0334810</td>\n",
       "<td>0.9635647</td>\n",
       "<td>-66.5327628</td>\n",
       "<td>20.4424878</td></tr>\n",
       "<tr><td></td>\n",
       "<td>15</td>\n",
       "<td>0.8999587</td>\n",
       "<td>0.0461907</td>\n",
       "<td>0.2266297</td>\n",
       "<td>1.0958432</td>\n",
       "<td>0.0474716</td>\n",
       "<td>0.0553483</td>\n",
       "<td>0.2295439</td>\n",
       "<td>0.2270520</td>\n",
       "<td>0.0226489</td>\n",
       "<td>0.9862137</td>\n",
       "<td>-77.3370345</td>\n",
       "<td>9.5843218</td></tr>\n",
       "<tr><td></td>\n",
       "<td>16</td>\n",
       "<td>1.0</td>\n",
       "<td>0.0136949</td>\n",
       "<td>0.1378063</td>\n",
       "<td>1.0</td>\n",
       "<td>0.0288660</td>\n",
       "<td>0.0349068</td>\n",
       "<td>0.2094678</td>\n",
       "<td>0.2078295</td>\n",
       "<td>0.0137863</td>\n",
       "<td>1.0</td>\n",
       "<td>-86.2193729</td>\n",
       "<td>0.0</td></tr></table></div>"
      ],
      "text/plain": [
       "    group    cumulative_data_fraction    lower_threshold    lift      cumulative_lift    response_rate    score      cumulative_response_rate    cumulative_score    capture_rate    cumulative_capture_rate    gain      cumulative_gain\n",
       "--  -------  --------------------------  -----------------  --------  -----------------  ---------------  ---------  --------------------------  ------------------  --------------  -------------------------  --------  -----------------\n",
       "    1        0.0100041                   0.975032           4.774     4.774              1                0.983309   1                           0.983309            0.0477597       0.0477597                  377.4     377.4\n",
       "    2        0.0200083                   0.96437            4.774     4.774              1                0.969759   1                           0.976534            0.0477597       0.0955194                  377.4     377.4\n",
       "    3        0.0300124                   0.950934           4.72479   4.7576             0.989691         0.958068   0.996564                    0.970379            0.0472674       0.142787                   372.479   375.76\n",
       "    4        0.0400165                   0.926571           4.42949   4.67557            0.927835         0.941133   0.979381                    0.963067            0.0443131       0.1871                     342.949   367.557\n",
       "    5        0.0500206                   0.883028           4.42949   4.62635            0.927835         0.908729   0.969072                    0.9522              0.0443131       0.231413                   342.949   362.635\n",
       "    6        0.100041                    0.472578           3.14001   3.88318            0.657732         0.644812   0.813402                    0.798506            0.157065        0.388479                   214.001   288.318\n",
       "    7        0.150062                    0.351465           1.64383   3.13673            0.34433          0.404733   0.657045                    0.667248            0.0822255       0.470704                   64.3832   213.673\n",
       "    8        0.200083                    0.284082           1.45681   2.71675            0.305155         0.315511   0.569072                    0.579314            0.0728705       0.543575                   45.6809   171.675\n",
       "    9        0.300021                    0.202151           1.23168   2.22207            0.257998         0.238396   0.465452                    0.465753            0.123092        0.666667                   23.1683   122.207\n",
       "    10       0.400062                    0.154339           0.856368  1.88056            0.179381         0.176239   0.393916                    0.393356            0.0856721       0.752339                   -14.3632  88.0556\n",
       "    11       0.5                         0.124212           0.704523  1.64549            0.147575         0.138402   0.344678                    0.342397            0.0704087       0.822747                   -29.5477  64.5495\n",
       "    12       0.600041                    0.100717           0.600442  1.47126            0.125773         0.112396   0.308182                    0.30405             0.0600689       0.882816                   -39.9558  47.1259\n",
       "    13       0.699979                    0.0816466          0.472966  1.32873            0.0990712        0.0913128  0.278326                    0.273677            0.0472674       0.930084                   -52.7034  32.873\n",
       "    14       0.800021                    0.0640121          0.334672  1.20442            0.0701031        0.0723495  0.252288                    0.248501            0.033481        0.963565                   -66.5328  20.4425\n",
       "    15       0.899959                    0.0461907          0.22663   1.09584            0.0474716        0.0553483  0.229544                    0.227052            0.0226489       0.986214                   -77.337   9.58432\n",
       "    16       1                           0.0136949          0.137806  1                  0.028866         0.0349068  0.209468                    0.20783             0.0137863       1                          -86.2194  0"
      ]
     },
     "metadata": {},
     "output_type": "display_data"
    },
    {
     "name": "stdout",
     "output_type": "stream",
     "text": [
      "\n"
     ]
    },
    {
     "data": {
      "text/plain": []
     },
     "execution_count": 128,
     "metadata": {},
     "output_type": "execute_result"
    }
   ],
   "source": [
    "print(\"Training Data\")\n",
    "gbm_model.model_performance(train = True)\n",
    "print(\"Testing Data\")\n",
    "gbm_model.model_performance(valid = True)"
   ]
  },
  {
   "cell_type": "markdown",
   "metadata": {},
   "source": [
    "# Step 7 (of 8). Interpret model"
   ]
  },
  {
   "cell_type": "code",
   "execution_count": 129,
   "metadata": {},
   "outputs": [
    {
     "data": {
      "text/html": [
       "<table>\n",
       "<thead>\n",
       "<tr><th style=\"text-align: right;\">  inq_last_6mths</th><th style=\"text-align: right;\">  Count</th></tr>\n",
       "</thead>\n",
       "<tbody>\n",
       "<tr><td style=\"text-align: right;\">               0</td><td style=\"text-align: right;\">  17910</td></tr>\n",
       "<tr><td style=\"text-align: right;\">               1</td><td style=\"text-align: right;\">  10288</td></tr>\n",
       "<tr><td style=\"text-align: right;\">               2</td><td style=\"text-align: right;\">   5480</td></tr>\n",
       "<tr><td style=\"text-align: right;\">               3</td><td style=\"text-align: right;\">   2942</td></tr>\n",
       "<tr><td style=\"text-align: right;\">               4</td><td style=\"text-align: right;\">   1022</td></tr>\n",
       "<tr><td style=\"text-align: right;\">               5</td><td style=\"text-align: right;\">    590</td></tr>\n",
       "<tr><td style=\"text-align: right;\">               6</td><td style=\"text-align: right;\">    335</td></tr>\n",
       "<tr><td style=\"text-align: right;\">               7</td><td style=\"text-align: right;\">    181</td></tr>\n",
       "<tr><td style=\"text-align: right;\">               8</td><td style=\"text-align: right;\">    112</td></tr>\n",
       "<tr><td style=\"text-align: right;\">               9</td><td style=\"text-align: right;\">     50</td></tr>\n",
       "<tr><td style=\"text-align: right;\">              10</td><td style=\"text-align: right;\">     24</td></tr>\n",
       "<tr><td style=\"text-align: right;\">              11</td><td style=\"text-align: right;\">     15</td></tr>\n",
       "<tr><td style=\"text-align: right;\">              12</td><td style=\"text-align: right;\">     15</td></tr>\n",
       "<tr><td style=\"text-align: right;\">              13</td><td style=\"text-align: right;\">      6</td></tr>\n",
       "<tr><td style=\"text-align: right;\">              14</td><td style=\"text-align: right;\">      6</td></tr>\n",
       "<tr><td style=\"text-align: right;\">              15</td><td style=\"text-align: right;\">      9</td></tr>\n",
       "<tr><td style=\"text-align: right;\">              16</td><td style=\"text-align: right;\">      3</td></tr>\n",
       "<tr><td style=\"text-align: right;\">              17</td><td style=\"text-align: right;\">      2</td></tr>\n",
       "<tr><td style=\"text-align: right;\">              18</td><td style=\"text-align: right;\">      4</td></tr>\n",
       "<tr><td style=\"text-align: right;\">              19</td><td style=\"text-align: right;\">      2</td></tr>\n",
       "<tr><td style=\"text-align: right;\">              20</td><td style=\"text-align: right;\">      1</td></tr>\n",
       "<tr><td style=\"text-align: right;\">              24</td><td style=\"text-align: right;\">      2</td></tr>\n",
       "<tr><td style=\"text-align: right;\">              25</td><td style=\"text-align: right;\">      1</td></tr>\n",
       "<tr><td style=\"text-align: right;\">              27</td><td style=\"text-align: right;\">      1</td></tr>\n",
       "<tr><td style=\"text-align: right;\">              28</td><td style=\"text-align: right;\">      1</td></tr>\n",
       "<tr><td style=\"text-align: right;\">              31</td><td style=\"text-align: right;\">      1</td></tr>\n",
       "<tr><td style=\"text-align: right;\">              32</td><td style=\"text-align: right;\">      1</td></tr>\n",
       "<tr><td style=\"text-align: right;\">              33</td><td style=\"text-align: right;\">      1</td></tr>\n",
       "</tbody>\n",
       "</table>"
      ]
     },
     "metadata": {},
     "output_type": "display_data"
    },
    {
     "data": {
      "text/plain": []
     },
     "execution_count": 129,
     "metadata": {},
     "output_type": "execute_result"
    }
   ],
   "source": [
    "loans[\"inq_last_6mths\"].table().head(100)"
   ]
  },
  {
   "cell_type": "markdown",
   "metadata": {},
   "source": [
    "# Step 8 (of 8). Stop H2O-3 cluster"
   ]
  },
  {
   "cell_type": "code",
   "execution_count": 133,
   "metadata": {},
   "outputs": [
    {
     "data": {
      "text/plain": [
       "'/Users/sshkel/poc/k8s-experiments/gbm_hex.java'"
      ]
     },
     "execution_count": 133,
     "metadata": {},
     "output_type": "execute_result"
    }
   ],
   "source": [
    "h2o.download_pojo(gbm_model,path=\"./\",get_jar=True)"
   ]
  },
  {
   "cell_type": "code",
   "execution_count": 43,
   "metadata": {},
   "outputs": [
    {
     "name": "stdout",
     "output_type": "stream",
     "text": [
      "H2O session _sid_8fbf closed.\n"
     ]
    }
   ],
   "source": [
    "h2o.cluster().shutdown()"
   ]
  },
  {
   "cell_type": "markdown",
   "metadata": {},
   "source": [
    "# Bonus: Github location for this tutorial\n",
    "\n",
    "* https://github.com/h2oai/h2o-tutorials/tree/master/nyc-workshop-2018/h2o_sw/h2o-3-hands-on"
   ]
  },
  {
   "cell_type": "markdown",
   "metadata": {},
   "source": [
    "# Bonus: H2O-3 documentation\n",
    "\n",
    "* http://docs.h2o.ai"
   ]
  }
 ],
 "metadata": {
  "kernelspec": {
   "display_name": "Python 3",
   "language": "python",
   "name": "python3"
  },
  "language_info": {
   "codemirror_mode": {
    "name": "ipython",
    "version": 3
   },
   "file_extension": ".py",
   "mimetype": "text/x-python",
   "name": "python",
   "nbconvert_exporter": "python",
   "pygments_lexer": "ipython3",
   "version": "3.7.0"
  }
 },
 "nbformat": 4,
 "nbformat_minor": 2
}
